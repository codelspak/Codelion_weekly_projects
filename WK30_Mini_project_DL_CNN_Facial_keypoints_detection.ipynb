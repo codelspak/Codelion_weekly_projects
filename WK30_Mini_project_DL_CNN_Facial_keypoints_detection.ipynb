{
  "cells": [
    {
      "cell_type": "markdown",
      "metadata": {
        "id": "view-in-github",
        "colab_type": "text"
      },
      "source": [
        "<a href=\"https://colab.research.google.com/github/codelspak/Codelion_weekly_projects/blob/main/WK30_Mini_project_DL_CNN_Facial_keypoints_detection.ipynb\" target=\"_parent\"><img src=\"https://colab.research.google.com/assets/colab-badge.svg\" alt=\"Open In Colab\"/></a>"
      ]
    },
    {
      "cell_type": "markdown",
      "id": "d86fa1b5",
      "metadata": {
        "id": "d86fa1b5"
      },
      "source": [
        "# 1. 필요한 라이브러리 가져오기"
      ]
    },
    {
      "cell_type": "code",
      "execution_count": null,
      "id": "87da472c",
      "metadata": {
        "id": "87da472c"
      },
      "outputs": [],
      "source": [
        "import pandas as pd\n",
        "import numpy as np\n",
        "import seaborn as sns\n",
        "import matplotlib.pyplot as plt\n",
        "%matplotlib inline\n",
        "import cv2\n",
        "from math import sin, cos, pi\n",
        "\n",
        "# from keras.applications import ResNet50 의 경우 ImportError 뜸 - 버전에 대한 문제로 아래와 같이 해결\n",
        "from tensorflow.keras.applications import ResNet50\n",
        "from keras.layers import Conv2D, LeakyReLU, GlobalAveragePooling2D, Dropout, Dense\n",
        "from keras.models import Sequential"
      ]
    },
    {
      "cell_type": "code",
      "execution_count": null,
      "id": "5946b4f5",
      "metadata": {
        "id": "5946b4f5"
      },
      "outputs": [],
      "source": [
        "def plot_image(image, keypoint, axis, title):\n",
        "    # 2D array 형태로 바꿔줌\n",
        "    image = image.reshape(96, 96)\n",
        "    # 시각화\n",
        "    axis.imshow(image, cmap = 'gray')\n",
        "    axis.scatter(keypoint[0::2], keypoint[1::2], marker = 'x', s=20)\n",
        "    plt.title(title)"
      ]
    },
    {
      "cell_type": "markdown",
      "id": "589ddb19",
      "metadata": {
        "id": "589ddb19"
      },
      "source": [
        "# 2. 데이터 로드"
      ]
    },
    {
      "cell_type": "code",
      "execution_count": null,
      "id": "e47c86e9",
      "metadata": {
        "id": "e47c86e9",
        "outputId": "0dbbceba-e04b-4194-90c3-625fdff1dcd4"
      },
      "outputs": [
        {
          "name": "stdout",
          "output_type": "stream",
          "text": [
            "Archive:  facial-keypoints-detection.zip\n",
            "  inflating: IdLookupTable.csv       \n",
            "  inflating: SampleSubmission.csv    \n",
            "  inflating: test.zip                \n",
            "  inflating: training.zip            \n"
          ]
        }
      ],
      "source": [
        "!unzip facial-keypoints-detection.zip"
      ]
    },
    {
      "cell_type": "code",
      "execution_count": null,
      "id": "0eccb3fc",
      "metadata": {
        "id": "0eccb3fc",
        "outputId": "b68d3d6f-dd74-4915-d319-74e720b31a92"
      },
      "outputs": [
        {
          "name": "stdout",
          "output_type": "stream",
          "text": [
            "Archive:  test.zip\n",
            "  inflating: test.csv                \n",
            "Archive:  training.zip\n",
            "  inflating: training.csv            \n"
          ]
        }
      ],
      "source": [
        "!unzip test.zip\n",
        "!unzip training.zip\n"
      ]
    },
    {
      "cell_type": "code",
      "execution_count": null,
      "id": "e852dd1f",
      "metadata": {
        "id": "e852dd1f"
      },
      "outputs": [],
      "source": [
        "train = pd.read_csv('training.csv')\n",
        "test = pd.read_csv('test.csv')\n",
        "idlookup_file = pd.read_csv('IdLookupTable.csv')"
      ]
    },
    {
      "cell_type": "code",
      "execution_count": null,
      "id": "b79b4d25",
      "metadata": {
        "id": "b79b4d25",
        "outputId": "e4064331-4f5b-4ef3-d57b-95559b62b64c"
      },
      "outputs": [
        {
          "data": {
            "text/plain": [
              "((7049, 31), (1783, 2), (27124, 4))"
            ]
          },
          "execution_count": 11,
          "metadata": {},
          "output_type": "execute_result"
        }
      ],
      "source": [
        "train.shape, test.shape, idlookup_file.shape"
      ]
    },
    {
      "cell_type": "code",
      "execution_count": null,
      "id": "d2512390",
      "metadata": {
        "id": "d2512390",
        "outputId": "3d3ad0d9-d4f2-494b-a5e8-5c8a359be322"
      },
      "outputs": [
        {
          "data": {
            "text/plain": [
              "{'Image'}"
            ]
          },
          "execution_count": 13,
          "metadata": {},
          "output_type": "execute_result"
        }
      ],
      "source": [
        "set(train.columns.tolist()) & set(test.columns.tolist())"
      ]
    },
    {
      "cell_type": "code",
      "execution_count": null,
      "id": "7cc82c9a",
      "metadata": {
        "id": "7cc82c9a",
        "outputId": "05f46f29-78ad-4639-bcd7-4224de1ca66b"
      },
      "outputs": [
        {
          "name": "stdout",
          "output_type": "stream",
          "text": [
            "['left_eye_center_x', 'left_eye_center_y', 'right_eye_center_x', 'right_eye_center_y', 'left_eye_inner_corner_x']\n",
            "['mouth_center_top_lip_x', 'mouth_center_top_lip_y', 'mouth_center_bottom_lip_x', 'mouth_center_bottom_lip_y', 'Image']\n"
          ]
        }
      ],
      "source": [
        "print(train.columns.tolist()[:5])\n",
        "print(train.columns.tolist()[-5:])"
      ]
    },
    {
      "cell_type": "code",
      "execution_count": null,
      "id": "f76e7055",
      "metadata": {
        "id": "f76e7055",
        "outputId": "e303c498-ca2e-4a23-8ec4-6e9e1c84e237"
      },
      "outputs": [
        {
          "data": {
            "text/html": [
              "<div>\n",
              "<style scoped>\n",
              "    .dataframe tbody tr th:only-of-type {\n",
              "        vertical-align: middle;\n",
              "    }\n",
              "\n",
              "    .dataframe tbody tr th {\n",
              "        vertical-align: top;\n",
              "    }\n",
              "\n",
              "    .dataframe thead th {\n",
              "        text-align: right;\n",
              "    }\n",
              "</style>\n",
              "<table border=\"1\" class=\"dataframe\">\n",
              "  <thead>\n",
              "    <tr style=\"text-align: right;\">\n",
              "      <th></th>\n",
              "      <th>left_eye_center_x</th>\n",
              "      <th>left_eye_center_y</th>\n",
              "      <th>right_eye_center_x</th>\n",
              "      <th>right_eye_center_y</th>\n",
              "      <th>left_eye_inner_corner_x</th>\n",
              "      <th>left_eye_inner_corner_y</th>\n",
              "      <th>left_eye_outer_corner_x</th>\n",
              "      <th>left_eye_outer_corner_y</th>\n",
              "      <th>right_eye_inner_corner_x</th>\n",
              "      <th>right_eye_inner_corner_y</th>\n",
              "      <th>...</th>\n",
              "      <th>nose_tip_y</th>\n",
              "      <th>mouth_left_corner_x</th>\n",
              "      <th>mouth_left_corner_y</th>\n",
              "      <th>mouth_right_corner_x</th>\n",
              "      <th>mouth_right_corner_y</th>\n",
              "      <th>mouth_center_top_lip_x</th>\n",
              "      <th>mouth_center_top_lip_y</th>\n",
              "      <th>mouth_center_bottom_lip_x</th>\n",
              "      <th>mouth_center_bottom_lip_y</th>\n",
              "      <th>Image</th>\n",
              "    </tr>\n",
              "  </thead>\n",
              "  <tbody>\n",
              "    <tr>\n",
              "      <th>0</th>\n",
              "      <td>66.033564</td>\n",
              "      <td>39.002274</td>\n",
              "      <td>30.227008</td>\n",
              "      <td>36.421678</td>\n",
              "      <td>59.582075</td>\n",
              "      <td>39.647423</td>\n",
              "      <td>73.130346</td>\n",
              "      <td>39.969997</td>\n",
              "      <td>36.356571</td>\n",
              "      <td>37.389402</td>\n",
              "      <td>...</td>\n",
              "      <td>57.066803</td>\n",
              "      <td>61.195308</td>\n",
              "      <td>79.970165</td>\n",
              "      <td>28.614496</td>\n",
              "      <td>77.388992</td>\n",
              "      <td>43.312602</td>\n",
              "      <td>72.935459</td>\n",
              "      <td>43.130707</td>\n",
              "      <td>84.485774</td>\n",
              "      <td>238 236 237 238 240 240 239 241 241 243 240 23...</td>\n",
              "    </tr>\n",
              "    <tr>\n",
              "      <th>1</th>\n",
              "      <td>64.332936</td>\n",
              "      <td>34.970077</td>\n",
              "      <td>29.949277</td>\n",
              "      <td>33.448715</td>\n",
              "      <td>58.856170</td>\n",
              "      <td>35.274349</td>\n",
              "      <td>70.722723</td>\n",
              "      <td>36.187166</td>\n",
              "      <td>36.034723</td>\n",
              "      <td>34.361532</td>\n",
              "      <td>...</td>\n",
              "      <td>55.660936</td>\n",
              "      <td>56.421447</td>\n",
              "      <td>76.352000</td>\n",
              "      <td>35.122383</td>\n",
              "      <td>76.047660</td>\n",
              "      <td>46.684596</td>\n",
              "      <td>70.266553</td>\n",
              "      <td>45.467915</td>\n",
              "      <td>85.480170</td>\n",
              "      <td>219 215 204 196 204 211 212 200 180 168 178 19...</td>\n",
              "    </tr>\n",
              "    <tr>\n",
              "      <th>2</th>\n",
              "      <td>65.057053</td>\n",
              "      <td>34.909642</td>\n",
              "      <td>30.903789</td>\n",
              "      <td>34.909642</td>\n",
              "      <td>59.412000</td>\n",
              "      <td>36.320968</td>\n",
              "      <td>70.984421</td>\n",
              "      <td>36.320968</td>\n",
              "      <td>37.678105</td>\n",
              "      <td>36.320968</td>\n",
              "      <td>...</td>\n",
              "      <td>53.538947</td>\n",
              "      <td>60.822947</td>\n",
              "      <td>73.014316</td>\n",
              "      <td>33.726316</td>\n",
              "      <td>72.732000</td>\n",
              "      <td>47.274947</td>\n",
              "      <td>70.191789</td>\n",
              "      <td>47.274947</td>\n",
              "      <td>78.659368</td>\n",
              "      <td>144 142 159 180 188 188 184 180 167 132 84 59 ...</td>\n",
              "    </tr>\n",
              "    <tr>\n",
              "      <th>3</th>\n",
              "      <td>65.225739</td>\n",
              "      <td>37.261774</td>\n",
              "      <td>32.023096</td>\n",
              "      <td>37.261774</td>\n",
              "      <td>60.003339</td>\n",
              "      <td>39.127179</td>\n",
              "      <td>72.314713</td>\n",
              "      <td>38.380967</td>\n",
              "      <td>37.618643</td>\n",
              "      <td>38.754115</td>\n",
              "      <td>...</td>\n",
              "      <td>54.166539</td>\n",
              "      <td>65.598887</td>\n",
              "      <td>72.703722</td>\n",
              "      <td>37.245496</td>\n",
              "      <td>74.195478</td>\n",
              "      <td>50.303165</td>\n",
              "      <td>70.091687</td>\n",
              "      <td>51.561183</td>\n",
              "      <td>78.268383</td>\n",
              "      <td>193 192 193 194 194 194 193 192 168 111 50 12 ...</td>\n",
              "    </tr>\n",
              "    <tr>\n",
              "      <th>4</th>\n",
              "      <td>66.725301</td>\n",
              "      <td>39.621261</td>\n",
              "      <td>32.244810</td>\n",
              "      <td>38.042032</td>\n",
              "      <td>58.565890</td>\n",
              "      <td>39.621261</td>\n",
              "      <td>72.515926</td>\n",
              "      <td>39.884466</td>\n",
              "      <td>36.982380</td>\n",
              "      <td>39.094852</td>\n",
              "      <td>...</td>\n",
              "      <td>64.889521</td>\n",
              "      <td>60.671411</td>\n",
              "      <td>77.523239</td>\n",
              "      <td>31.191755</td>\n",
              "      <td>76.997301</td>\n",
              "      <td>44.962748</td>\n",
              "      <td>73.707387</td>\n",
              "      <td>44.227141</td>\n",
              "      <td>86.871166</td>\n",
              "      <td>147 148 160 196 215 214 216 217 219 220 206 18...</td>\n",
              "    </tr>\n",
              "  </tbody>\n",
              "</table>\n",
              "<p>5 rows × 31 columns</p>\n",
              "</div>"
            ],
            "text/plain": [
              "   left_eye_center_x  left_eye_center_y  right_eye_center_x  \\\n",
              "0          66.033564          39.002274           30.227008   \n",
              "1          64.332936          34.970077           29.949277   \n",
              "2          65.057053          34.909642           30.903789   \n",
              "3          65.225739          37.261774           32.023096   \n",
              "4          66.725301          39.621261           32.244810   \n",
              "\n",
              "   right_eye_center_y  left_eye_inner_corner_x  left_eye_inner_corner_y  \\\n",
              "0           36.421678                59.582075                39.647423   \n",
              "1           33.448715                58.856170                35.274349   \n",
              "2           34.909642                59.412000                36.320968   \n",
              "3           37.261774                60.003339                39.127179   \n",
              "4           38.042032                58.565890                39.621261   \n",
              "\n",
              "   left_eye_outer_corner_x  left_eye_outer_corner_y  right_eye_inner_corner_x  \\\n",
              "0                73.130346                39.969997                 36.356571   \n",
              "1                70.722723                36.187166                 36.034723   \n",
              "2                70.984421                36.320968                 37.678105   \n",
              "3                72.314713                38.380967                 37.618643   \n",
              "4                72.515926                39.884466                 36.982380   \n",
              "\n",
              "   right_eye_inner_corner_y  ...  nose_tip_y  mouth_left_corner_x  \\\n",
              "0                 37.389402  ...   57.066803            61.195308   \n",
              "1                 34.361532  ...   55.660936            56.421447   \n",
              "2                 36.320968  ...   53.538947            60.822947   \n",
              "3                 38.754115  ...   54.166539            65.598887   \n",
              "4                 39.094852  ...   64.889521            60.671411   \n",
              "\n",
              "   mouth_left_corner_y  mouth_right_corner_x  mouth_right_corner_y  \\\n",
              "0            79.970165             28.614496             77.388992   \n",
              "1            76.352000             35.122383             76.047660   \n",
              "2            73.014316             33.726316             72.732000   \n",
              "3            72.703722             37.245496             74.195478   \n",
              "4            77.523239             31.191755             76.997301   \n",
              "\n",
              "   mouth_center_top_lip_x  mouth_center_top_lip_y  mouth_center_bottom_lip_x  \\\n",
              "0               43.312602               72.935459                  43.130707   \n",
              "1               46.684596               70.266553                  45.467915   \n",
              "2               47.274947               70.191789                  47.274947   \n",
              "3               50.303165               70.091687                  51.561183   \n",
              "4               44.962748               73.707387                  44.227141   \n",
              "\n",
              "   mouth_center_bottom_lip_y  \\\n",
              "0                  84.485774   \n",
              "1                  85.480170   \n",
              "2                  78.659368   \n",
              "3                  78.268383   \n",
              "4                  86.871166   \n",
              "\n",
              "                                               Image  \n",
              "0  238 236 237 238 240 240 239 241 241 243 240 23...  \n",
              "1  219 215 204 196 204 211 212 200 180 168 178 19...  \n",
              "2  144 142 159 180 188 188 184 180 167 132 84 59 ...  \n",
              "3  193 192 193 194 194 194 193 192 168 111 50 12 ...  \n",
              "4  147 148 160 196 215 214 216 217 219 220 206 18...  \n",
              "\n",
              "[5 rows x 31 columns]"
            ]
          },
          "execution_count": 8,
          "metadata": {},
          "output_type": "execute_result"
        }
      ],
      "source": [
        "train.head()"
      ]
    },
    {
      "cell_type": "code",
      "execution_count": null,
      "id": "72041437",
      "metadata": {
        "id": "72041437",
        "outputId": "a95b7b49-2d93-4e51-f3a7-0c030bb410a0"
      },
      "outputs": [
        {
          "data": {
            "text/html": [
              "<div>\n",
              "<style scoped>\n",
              "    .dataframe tbody tr th:only-of-type {\n",
              "        vertical-align: middle;\n",
              "    }\n",
              "\n",
              "    .dataframe tbody tr th {\n",
              "        vertical-align: top;\n",
              "    }\n",
              "\n",
              "    .dataframe thead th {\n",
              "        text-align: right;\n",
              "    }\n",
              "</style>\n",
              "<table border=\"1\" class=\"dataframe\">\n",
              "  <thead>\n",
              "    <tr style=\"text-align: right;\">\n",
              "      <th></th>\n",
              "      <th>ImageId</th>\n",
              "      <th>Image</th>\n",
              "    </tr>\n",
              "  </thead>\n",
              "  <tbody>\n",
              "    <tr>\n",
              "      <th>0</th>\n",
              "      <td>1</td>\n",
              "      <td>182 183 182 182 180 180 176 169 156 137 124 10...</td>\n",
              "    </tr>\n",
              "    <tr>\n",
              "      <th>1</th>\n",
              "      <td>2</td>\n",
              "      <td>76 87 81 72 65 59 64 76 69 42 31 38 49 58 58 4...</td>\n",
              "    </tr>\n",
              "    <tr>\n",
              "      <th>2</th>\n",
              "      <td>3</td>\n",
              "      <td>177 176 174 170 169 169 168 166 166 166 161 14...</td>\n",
              "    </tr>\n",
              "    <tr>\n",
              "      <th>3</th>\n",
              "      <td>4</td>\n",
              "      <td>176 174 174 175 174 174 176 176 175 171 165 15...</td>\n",
              "    </tr>\n",
              "    <tr>\n",
              "      <th>4</th>\n",
              "      <td>5</td>\n",
              "      <td>50 47 44 101 144 149 120 58 48 42 35 35 37 39 ...</td>\n",
              "    </tr>\n",
              "  </tbody>\n",
              "</table>\n",
              "</div>"
            ],
            "text/plain": [
              "   ImageId                                              Image\n",
              "0        1  182 183 182 182 180 180 176 169 156 137 124 10...\n",
              "1        2  76 87 81 72 65 59 64 76 69 42 31 38 49 58 58 4...\n",
              "2        3  177 176 174 170 169 169 168 166 166 166 161 14...\n",
              "3        4  176 174 174 175 174 174 176 176 175 171 165 15...\n",
              "4        5  50 47 44 101 144 149 120 58 48 42 35 35 37 39 ..."
            ]
          },
          "execution_count": 9,
          "metadata": {},
          "output_type": "execute_result"
        }
      ],
      "source": [
        "test.head()"
      ]
    },
    {
      "cell_type": "code",
      "execution_count": null,
      "id": "a7345222",
      "metadata": {
        "id": "a7345222",
        "outputId": "d7e665ff-dfd4-424d-ae81-1f16ab16f03f"
      },
      "outputs": [
        {
          "data": {
            "text/html": [
              "<div>\n",
              "<style scoped>\n",
              "    .dataframe tbody tr th:only-of-type {\n",
              "        vertical-align: middle;\n",
              "    }\n",
              "\n",
              "    .dataframe tbody tr th {\n",
              "        vertical-align: top;\n",
              "    }\n",
              "\n",
              "    .dataframe thead th {\n",
              "        text-align: right;\n",
              "    }\n",
              "</style>\n",
              "<table border=\"1\" class=\"dataframe\">\n",
              "  <thead>\n",
              "    <tr style=\"text-align: right;\">\n",
              "      <th></th>\n",
              "      <th>RowId</th>\n",
              "      <th>ImageId</th>\n",
              "      <th>FeatureName</th>\n",
              "      <th>Location</th>\n",
              "    </tr>\n",
              "  </thead>\n",
              "  <tbody>\n",
              "    <tr>\n",
              "      <th>0</th>\n",
              "      <td>1</td>\n",
              "      <td>1</td>\n",
              "      <td>left_eye_center_x</td>\n",
              "      <td>NaN</td>\n",
              "    </tr>\n",
              "    <tr>\n",
              "      <th>1</th>\n",
              "      <td>2</td>\n",
              "      <td>1</td>\n",
              "      <td>left_eye_center_y</td>\n",
              "      <td>NaN</td>\n",
              "    </tr>\n",
              "    <tr>\n",
              "      <th>2</th>\n",
              "      <td>3</td>\n",
              "      <td>1</td>\n",
              "      <td>right_eye_center_x</td>\n",
              "      <td>NaN</td>\n",
              "    </tr>\n",
              "    <tr>\n",
              "      <th>3</th>\n",
              "      <td>4</td>\n",
              "      <td>1</td>\n",
              "      <td>right_eye_center_y</td>\n",
              "      <td>NaN</td>\n",
              "    </tr>\n",
              "    <tr>\n",
              "      <th>4</th>\n",
              "      <td>5</td>\n",
              "      <td>1</td>\n",
              "      <td>left_eye_inner_corner_x</td>\n",
              "      <td>NaN</td>\n",
              "    </tr>\n",
              "  </tbody>\n",
              "</table>\n",
              "</div>"
            ],
            "text/plain": [
              "   RowId  ImageId              FeatureName  Location\n",
              "0      1        1        left_eye_center_x       NaN\n",
              "1      2        1        left_eye_center_y       NaN\n",
              "2      3        1       right_eye_center_x       NaN\n",
              "3      4        1       right_eye_center_y       NaN\n",
              "4      5        1  left_eye_inner_corner_x       NaN"
            ]
          },
          "execution_count": 10,
          "metadata": {},
          "output_type": "execute_result"
        }
      ],
      "source": [
        "idlookup_file.head()"
      ]
    },
    {
      "cell_type": "markdown",
      "id": "de66f586",
      "metadata": {
        "id": "de66f586"
      },
      "source": [
        "# 3. 데이터 EDA"
      ]
    },
    {
      "cell_type": "code",
      "execution_count": null,
      "id": "6b9a7225",
      "metadata": {
        "id": "6b9a7225",
        "outputId": "45e07a32-e4e9-4e3f-cc79-e0819a0a59fb"
      },
      "outputs": [
        {
          "data": {
            "text/plain": [
              "left_eye_center_x              10\n",
              "left_eye_center_y              10\n",
              "right_eye_center_x             13\n",
              "right_eye_center_y             13\n",
              "left_eye_inner_corner_x      4778\n",
              "left_eye_inner_corner_y      4778\n",
              "left_eye_outer_corner_x      4782\n",
              "left_eye_outer_corner_y      4782\n",
              "right_eye_inner_corner_x     4781\n",
              "right_eye_inner_corner_y     4781\n",
              "right_eye_outer_corner_x     4781\n",
              "right_eye_outer_corner_y     4781\n",
              "left_eyebrow_inner_end_x     4779\n",
              "left_eyebrow_inner_end_y     4779\n",
              "left_eyebrow_outer_end_x     4824\n",
              "left_eyebrow_outer_end_y     4824\n",
              "right_eyebrow_inner_end_x    4779\n",
              "right_eyebrow_inner_end_y    4779\n",
              "right_eyebrow_outer_end_x    4813\n",
              "right_eyebrow_outer_end_y    4813\n",
              "nose_tip_x                      0\n",
              "nose_tip_y                      0\n",
              "mouth_left_corner_x          4780\n",
              "mouth_left_corner_y          4780\n",
              "mouth_right_corner_x         4779\n",
              "mouth_right_corner_y         4779\n",
              "mouth_center_top_lip_x       4774\n",
              "mouth_center_top_lip_y       4774\n",
              "mouth_center_bottom_lip_x      33\n",
              "mouth_center_bottom_lip_y      33\n",
              "Image                           0\n",
              "dtype: int64"
            ]
          },
          "execution_count": 15,
          "metadata": {},
          "output_type": "execute_result"
        }
      ],
      "source": [
        "# 결측치 확인\n",
        "train.isnull().sum()"
      ]
    },
    {
      "cell_type": "code",
      "execution_count": null,
      "id": "c81e277a",
      "metadata": {
        "id": "c81e277a",
        "outputId": "20e0062a-83e4-4cf2-ff79-297f716fd5bd"
      },
      "outputs": [
        {
          "data": {
            "text/plain": [
              "left_eye_center_x             0.14\n",
              "left_eye_center_y             0.14\n",
              "right_eye_center_x            0.18\n",
              "right_eye_center_y            0.18\n",
              "left_eye_inner_corner_x      67.78\n",
              "left_eye_inner_corner_y      67.78\n",
              "left_eye_outer_corner_x      67.84\n",
              "left_eye_outer_corner_y      67.84\n",
              "right_eye_inner_corner_x     67.83\n",
              "right_eye_inner_corner_y     67.83\n",
              "right_eye_outer_corner_x     67.83\n",
              "right_eye_outer_corner_y     67.83\n",
              "left_eyebrow_inner_end_x     67.80\n",
              "left_eyebrow_inner_end_y     67.80\n",
              "left_eyebrow_outer_end_x     68.44\n",
              "left_eyebrow_outer_end_y     68.44\n",
              "right_eyebrow_inner_end_x    67.80\n",
              "right_eyebrow_inner_end_y    67.80\n",
              "right_eyebrow_outer_end_x    68.28\n",
              "right_eyebrow_outer_end_y    68.28\n",
              "nose_tip_x                    0.00\n",
              "nose_tip_y                    0.00\n",
              "mouth_left_corner_x          67.81\n",
              "mouth_left_corner_y          67.81\n",
              "mouth_right_corner_x         67.80\n",
              "mouth_right_corner_y         67.80\n",
              "mouth_center_top_lip_x       67.73\n",
              "mouth_center_top_lip_y       67.73\n",
              "mouth_center_bottom_lip_x     0.47\n",
              "mouth_center_bottom_lip_y     0.47\n",
              "Image                         0.00\n",
              "dtype: float64"
            ]
          },
          "execution_count": 19,
          "metadata": {},
          "output_type": "execute_result"
        }
      ],
      "source": [
        "round(train.isnull().mean()*100,2)"
      ]
    },
    {
      "cell_type": "markdown",
      "id": "f875e76d",
      "metadata": {
        "id": "f875e76d"
      },
      "source": [
        "nose_tip_x, nose_tip_y, Image 세 개 컬럼을 제외한 모든 컬럼에서 결측치가 존재함<br>\n",
        "심지어 대부분 피처가 67-68% 가량이 데이터가 결손된 상태로 전처리 방향 설정이 매우 중요하다고 판단할 수 있음"
      ]
    },
    {
      "cell_type": "code",
      "execution_count": null,
      "id": "1ff15ace",
      "metadata": {
        "id": "1ff15ace",
        "outputId": "f16bb6ba-e61d-4034-f2ce-befa563535f5"
      },
      "outputs": [
        {
          "data": {
            "text/plain": [
              "((2140, 31), (7049, 31))"
            ]
          },
          "execution_count": 20,
          "metadata": {},
          "output_type": "execute_result"
        }
      ],
      "source": [
        "# 결측치가 없는 데이터 : augmentation > 학습에 이용\n",
        "clean_train = train.dropna() \n",
        "# 기존 결측치는 그냥 앞 데이터 끌고와서 채워줌\n",
        "train = train.fillna(method='ffill') # 'ffill' stands for 'forward fill' > propagate last valid observation forward\n",
        "\n",
        "clean_train.shape, train.shape"
      ]
    },
    {
      "cell_type": "code",
      "execution_count": null,
      "id": "148cc5b0",
      "metadata": {
        "id": "148cc5b0",
        "outputId": "80dfa4b9-361c-49cd-a1ef-227eb3e2ca8b"
      },
      "outputs": [
        {
          "data": {
            "text/plain": [
              "Series([], dtype: int64)"
            ]
          },
          "execution_count": 22,
          "metadata": {},
          "output_type": "execute_result"
        }
      ],
      "source": [
        "# 결측치 drop 결과 확인\n",
        "train.isnull().sum()[train.isnull().sum()>0]"
      ]
    },
    {
      "cell_type": "markdown",
      "id": "ad1486f7",
      "metadata": {
        "id": "ad1486f7"
      },
      "source": [
        "# 4. 이미지 로드 및 키포인트 처리"
      ]
    },
    {
      "cell_type": "code",
      "execution_count": null,
      "id": "0024a033",
      "metadata": {
        "id": "0024a033"
      },
      "outputs": [],
      "source": [
        "# 이미지 로드 함수 정의"
      ]
    },
    {
      "cell_type": "code",
      "execution_count": null,
      "id": "f7fa408d",
      "metadata": {
        "id": "f7fa408d"
      },
      "outputs": [],
      "source": [
        "def load_images(image_data):\n",
        "    images = []\n",
        "    for idx, sample in image_data.iterrows():\n",
        "        image = np.array(sample['Image'].split(' '), dtype=int)\n",
        "        image = np.reshape(image, (96,96,1))\n",
        "        images.append(image)\n",
        "    images = np.array(images)/255.\n",
        "    return images\n",
        "\n",
        "def load_keypoints(keypoint_data):\n",
        "    keypoint_data = keypoint_data.drop(['Image'], axis=1)\n",
        "    keypoint_features = []\n",
        "    for idx, features in keypoint_data.iterrows():\n",
        "        keypoint_features.append(features)\n",
        "    keypoint_features = np.array(keypoint_features, dtype=float)\n",
        "    return keypoint_features\n",
        "\n",
        "train_images = load_images(train_file)\n",
        "images = load_images(clean_train_file)\n",
        "train_keypoints = load_keypoints(train_file)\n",
        "keypoints = load_keypoints(clean_train_file)\n",
        "test_images = load_images(test_file)"
      ]
    },
    {
      "cell_type": "code",
      "execution_count": null,
      "id": "c5030fd8",
      "metadata": {
        "id": "c5030fd8"
      },
      "outputs": [],
      "source": [
        ""
      ]
    },
    {
      "cell_type": "markdown",
      "id": "8975c3d4",
      "metadata": {
        "id": "8975c3d4"
      },
      "source": [
        "# 5. 데이터 증강(Augmentation)"
      ]
    },
    {
      "cell_type": "code",
      "execution_count": null,
      "id": "7d057a0e",
      "metadata": {
        "id": "7d057a0e"
      },
      "outputs": [],
      "source": [
        "class aug_config:\n",
        "    rotation_augmentation = True\n",
        "    brightness_augmentation = True\n",
        "    shift_augmentation = True\n",
        "    random_noise_augmentation = True\n",
        "    rotation_angles = [15]\n",
        "    pixel_shifts = [15]"
      ]
    },
    {
      "cell_type": "code",
      "execution_count": null,
      "id": "8c434a02",
      "metadata": {
        "id": "8c434a02"
      },
      "outputs": [],
      "source": [
        "def rotate_augmentation(images, keypoints, rotation_angles):\n",
        "    rotated_images = []\n",
        "    rotated_keypoints = []\n",
        "    for angle in rotation_angles:\n",
        "        for angle in [angle, -angle]:\n",
        "            M = cv2.getRotationMatrix2D((48,48), angle, 1.)\n",
        "            angle_rad = -angle*pi/180.\n",
        "            for image in images:\n",
        "                rotated_image = cv2.warpAffine(image, M, (96,96), flags=cv2.INTER_CUBIC)\n",
        "                rotated_images.append(rotated_image)\n",
        "            for keypoint in keypoints:\n",
        "                rotated_keypoint = keypoint - 48.\n",
        "                for idx in range(0, len(rotated_keypoint), 2):\n",
        "                    rotated_keypoint[idx] = rotated_keypoint[idx]*cos(angle_rad)-rotated_keypoint[idx+1]*sin(angle_rad)\n",
        "                    rotated_keypoint[idx+1] = rotated_keypoint[idx]*sin(angle_rad)+rotated_keypoint[idx+1]*cos(angle_rad)\n",
        "                rotated_keypoint += 48.   \n",
        "                rotated_keypoints.append(rotated_keypoint)\n",
        "            \n",
        "    return np.reshape(rotated_images,(-1,96,96,1)), rotated_keypoints\n",
        "\n",
        "if aug_config.rotation_augmentation:\n",
        "    rotated_train_images, rotated_train_keypoints = rotate_augmentation(images, keypoints, aug_config.rotation_angles)\n",
        "    train_images = np.concatenate((train_images, rotated_train_images))\n",
        "    train_keypoints = np.concatenate((train_keypoints, rotated_train_keypoints))\n",
        "    fig, axis = plt.subplots()\n",
        "    plot_sample(rotated_train_images[19], rotated_train_keypoints[19], axis, \"Rotation Augmentation\")"
      ]
    },
    {
      "cell_type": "code",
      "execution_count": null,
      "id": "626fb73d",
      "metadata": {
        "id": "626fb73d"
      },
      "outputs": [],
      "source": [
        "def alter_brightness(images, keypoints):\n",
        "    altered_brightness_images = []\n",
        "    inc_brightness_images = np.clip(images*1.2, 0.0, 1.0)    \n",
        "    dec_brightness_images = np.clip(images*0.6, 0.0, 1.0)    \n",
        "    altered_brightness_images.extend(inc_brightness_images)\n",
        "    altered_brightness_images.extend(dec_brightness_images)\n",
        "    return altered_brightness_images, np.concatenate((keypoints, keypoints))\n",
        "\n",
        "if aug_config.brightness_augmentation:\n",
        "    altered_brightness_images, altered_brightness_keypoints = alter_brightness(images, keypoints)\n",
        "    train_images = np.concatenate((train_images, altered_brightness_images))\n",
        "    train_keypoints = np.concatenate((train_keypoints, altered_brightness_keypoints))\n",
        "    fig, axis = plt.subplots()\n",
        "    plot_sample(altered_brightness_images[19], altered_brightness_keypoints[19], axis, \"Alter Brightness Augmentation\")\n"
      ]
    },
    {
      "cell_type": "code",
      "execution_count": null,
      "id": "bfaa84df",
      "metadata": {
        "id": "bfaa84df"
      },
      "outputs": [],
      "source": [
        "def shift_images(images, keypoints, pixel_shifts):\n",
        "    shifted_images = []\n",
        "    shifted_keypoints = []\n",
        "    for shift in pixel_shifts:    \n",
        "        for (shift_x,shift_y) in [(-shift,-shift),(-shift,shift),(shift,-shift),(shift,shift)]:\n",
        "            M = np.float32([[1,0,shift_x],[0,1,shift_y]])\n",
        "            for image, keypoint in zip(images, keypoints):\n",
        "                shifted_image = cv2.warpAffine(image, M, (96,96), flags=cv2.INTER_CUBIC)\n",
        "                shifted_keypoint = np.array([(point+shift_x) if idx%2==0 else (point+shift_y) for idx, point in enumerate(keypoint)])\n",
        "                if np.all(0.0<shifted_keypoint) and np.all(shifted_keypoint<96.0):\n",
        "                    shifted_images.append(shifted_image.reshape(96,96,1))\n",
        "                    shifted_keypoints.append(shifted_keypoint)\n",
        "    shifted_keypoints = np.clip(shifted_keypoints,0.0,96.0)\n",
        "    return shifted_images, shifted_keypoints\n",
        "\n",
        "if aug_config.shift_augmentation:\n",
        "    shifted_train_images, shifted_train_keypoints = shift_images(images, keypoints, aug_config.pixel_shifts)\n",
        "    train_images = np.concatenate((train_images, shifted_train_images))\n",
        "    train_keypoints = np.concatenate((train_keypoints, shifted_train_keypoints))\n",
        "    fig, axis = plt.subplots()\n",
        "    plot_sample(shifted_train_images[19], shifted_train_keypoints[19], axis, \"Shift Augmentation\")\n"
      ]
    },
    {
      "cell_type": "code",
      "execution_count": null,
      "id": "25868c98",
      "metadata": {
        "id": "25868c98"
      },
      "outputs": [],
      "source": [
        "def add_noise(images):\n",
        "    noisy_images = []\n",
        "    for image in images:\n",
        "        noisy_image = cv2.add(image, 0.008*np.random.randn(96,96,1))    # Adding random normal noise to the input image & clip the resulting noisy image between [-1,1]\n",
        "        noisy_images.append(noisy_image.reshape(96,96,1))\n",
        "    return noisy_images\n",
        "\n",
        "if aug_config.random_noise_augmentation:\n",
        "    noisy_train_images = add_noise(images)\n",
        "    train_images = np.concatenate((train_images, noisy_train_images))\n",
        "    train_keypoints = np.concatenate((train_keypoints, keypoints))\n",
        "    fig, axis = plt.subplots()\n",
        "    plot_sample(noisy_train_images[19], keypoints[19], axis, \"Random Noise Augmentation\")"
      ]
    },
    {
      "cell_type": "code",
      "execution_count": null,
      "id": "1ddd0e34",
      "metadata": {
        "id": "1ddd0e34"
      },
      "outputs": [],
      "source": [
        "print(train_images.shape)\n",
        "print(train_keypoints.shape)"
      ]
    },
    {
      "cell_type": "markdown",
      "id": "6d6c81ff",
      "metadata": {
        "id": "6d6c81ff"
      },
      "source": [
        "# 6. CNN 모델링"
      ]
    },
    {
      "cell_type": "code",
      "execution_count": null,
      "id": "dd5b5035",
      "metadata": {
        "id": "dd5b5035"
      },
      "outputs": [],
      "source": [
        "model = Sequential()\n",
        "pretrained_model = ResNet50(input_shape=(96,96,3), include_top=False, weights='imagenet')\n",
        "pretrained_model.trainable = True\n",
        "\n",
        "model.add(Conv2D(3, (1,1), padding='same', input_shape=(96,96,1)))\n",
        "model.add(LeakyReLU(alpha=0.1))\n",
        "model.add(pretrained_model)\n",
        "model.add(GlobalAveragePooling2D())\n",
        "model.add(Dropout(0.1))\n",
        "model.add(Dense(30))\n",
        "model.summary()"
      ]
    },
    {
      "cell_type": "markdown",
      "id": "c1a0721f",
      "metadata": {
        "id": "c1a0721f"
      },
      "source": [
        "훈련시켜보자"
      ]
    },
    {
      "cell_type": "code",
      "execution_count": null,
      "id": "ca950114",
      "metadata": {
        "id": "ca950114"
      },
      "outputs": [],
      "source": [
        "from keras.callbacks import EarlyStopping, ReduceLROnPlateau\n",
        "earlyStopping = EarlyStopping(monitor='loss', patience=30, mode='min',\n",
        "                             baseline=None)\n",
        "\n",
        "rlp = ReduceLROnPlateau(monitor='val_loss', factor=0.7, patience=5, min_lr=1e-15, mode='min', verbose=1)\n",
        "\n",
        "model.compile(optimizer='adam', loss='mean_squared_error', metrics=['accuracy'])\n",
        "\n",
        "history = model.fit(train_images, train_keypoints, epochs=200, batch_size=64, validation_split=0.15, callbacks=[earlyStopping, rlp])"
      ]
    },
    {
      "cell_type": "code",
      "execution_count": null,
      "id": "26879b9f",
      "metadata": {
        "id": "26879b9f"
      },
      "outputs": [],
      "source": [
        "# 시각화\n",
        "sns.set_style('darkgrid')\n",
        "\n",
        "fig, ax = plt.subplots(2, 1, figsize=(20, 10))\n",
        "df = pd.DataFrame(history.history)\n",
        "df[['loss', 'val_loss']].plot(ax=ax[0])\n",
        "df[['accuracy', 'val_accuracy']].plot(ax=ax[1])\n",
        "ax[0].set_title('Model Loss', fontsize=12)\n",
        "ax[1].set_title('Model Acc', fontsize=12)\n",
        "fig.suptitle('Model Metrics', fontsize=18);"
      ]
    },
    {
      "cell_type": "code",
      "execution_count": null,
      "id": "36813bf9",
      "metadata": {
        "id": "36813bf9"
      },
      "outputs": [],
      "source": [
        "# 결과 예측\n",
        "test_preds = model.predict(test_images)"
      ]
    },
    {
      "cell_type": "code",
      "execution_count": null,
      "id": "f50e016a",
      "metadata": {
        "id": "f50e016a"
      },
      "outputs": [],
      "source": [
        "# 제출\n",
        "feature_names = list(idlookup_file['FeatureName'])\n",
        "image_ids = list(idlookup_file['ImageId']-1)\n",
        "row_ids = list(idlookup_file['RowId'])\n",
        "\n",
        "feature_list = []\n",
        "for feature in feature_names:\n",
        "    feature_list.append(feature_names.index(feature))\n",
        "    \n",
        "predictions = []\n",
        "for x,y in zip(image_ids, feature_list):\n",
        "    predictions.append(test_preds[x][y])\n",
        "    \n",
        "row_ids = pd.Series(row_ids, name = 'RowId')\n",
        "locations = pd.Series(predictions, name = 'Location')\n",
        "locations = locations.clip(0.0,96.0)\n",
        "submission_result = pd.concat([row_ids,locations],axis = 1)\n",
        "submission_result.to_csv('submission.csv',index = False)"
      ]
    },
    {
      "cell_type": "code",
      "execution_count": null,
      "id": "d624c328",
      "metadata": {
        "id": "d624c328"
      },
      "outputs": [],
      "source": [
        ""
      ]
    }
  ],
  "metadata": {
    "kernelspec": {
      "display_name": "Python 3.8 (NGC 22.03 / TensorFlow 2.8) on Backend.AI",
      "language": "python",
      "name": "python3"
    },
    "language_info": {
      "codemirror_mode": {
        "name": "ipython",
        "version": 3
      },
      "file_extension": ".py",
      "mimetype": "text/x-python",
      "name": "python",
      "nbconvert_exporter": "python",
      "pygments_lexer": "ipython3",
      "version": "3.8.10"
    },
    "colab": {
      "name": "WK30_Mini_project_DL_CNN_Facial_keypoints_detection.ipynb",
      "provenance": [],
      "collapsed_sections": [],
      "include_colab_link": true
    }
  },
  "nbformat": 4,
  "nbformat_minor": 5
}