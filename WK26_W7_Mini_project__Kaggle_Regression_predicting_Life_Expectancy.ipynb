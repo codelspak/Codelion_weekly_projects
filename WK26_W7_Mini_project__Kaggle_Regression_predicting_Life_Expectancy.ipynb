{
  "nbformat": 4,
  "nbformat_minor": 0,
  "metadata": {
    "colab": {
      "name": "WK26_W7_Mini project_ Kaggle_Regression_predicting Life Expectancy.ipynb",
      "provenance": [],
      "collapsed_sections": [],
      "mount_file_id": "1NPG7Z7J8jIwDgQLNYRvjRAIk8-P-viRN",
      "authorship_tag": "ABX9TyNK97763O/zr6kSpPn+g056",
      "include_colab_link": true
    },
    "kernelspec": {
      "name": "python3",
      "display_name": "Python 3"
    },
    "language_info": {
      "name": "python"
    }
  },
  "cells": [
    {
      "cell_type": "markdown",
      "metadata": {
        "id": "view-in-github",
        "colab_type": "text"
      },
      "source": [
        "<a href=\"https://colab.research.google.com/github/codelspak/Codelion_weekly_projects/blob/main/WK26_W7_Mini_project__Kaggle_Regression_predicting_Life_Expectancy.ipynb\" target=\"_parent\"><img src=\"https://colab.research.google.com/assets/colab-badge.svg\" alt=\"Open In Colab\"/></a>"
      ]
    },
    {
      "cell_type": "markdown",
      "source": [
        "# 1. 문제 설명\n",
        "'Country'\n",
        "'Year'\n",
        "'Status'\n",
        "'Life expectancy '\n",
        "'Adult Mortality'\n",
        "'infant deaths'\n",
        "'Alcohol'\n",
        "'percentage expenditure'\n",
        "'Hepatitis B'\n",
        "'Measles '\n",
        "' BMI '\n",
        "'under-five deaths '\n",
        "'Polio'\n",
        "'Total expenditure'\n",
        "'Diphtheria '\n",
        "' HIV/AIDS'\n",
        "'GDP'\n",
        "'Population'\n",
        "' thinness  1-19 years'\n",
        "' thinness 5-9 years'\n",
        "'Income composition of resources'\n",
        "'Schooling'"
      ],
      "metadata": {
        "id": "o-FMeGTft499"
      }
    },
    {
      "cell_type": "markdown",
      "source": [
        "# 2. 라이브러리, 데이터셋 불러오기"
      ],
      "metadata": {
        "id": "dAmvuY5M1N3i"
      }
    },
    {
      "cell_type": "code",
      "source": [
        "import pandas as pd\n",
        "import numpy as np\n",
        "import seaborn as sns\n",
        "import matplotlib.pyplot as plt\n",
        "\n"
      ],
      "metadata": {
        "id": "mrtIB4B013A4"
      },
      "execution_count": 1,
      "outputs": []
    },
    {
      "cell_type": "code",
      "source": [
        "data = pd.read_csv('/content/drive/MyDrive/Codelion_weekly assignments/Life Expectancy Data.csv')\n",
        "data.shape"
      ],
      "metadata": {
        "colab": {
          "base_uri": "https://localhost:8080/"
        },
        "id": "l8FybQu61fYB",
        "outputId": "ee6224b1-13e7-4f8c-99bc-34693aad7814"
      },
      "execution_count": 2,
      "outputs": [
        {
          "output_type": "execute_result",
          "data": {
            "text/plain": [
              "(2938, 22)"
            ]
          },
          "metadata": {},
          "execution_count": 2
        }
      ]
    },
    {
      "cell_type": "markdown",
      "source": [
        "# 3. 데이터 기초정보 확인"
      ],
      "metadata": {
        "id": "ewss16Ew1fb2"
      }
    },
    {
      "cell_type": "code",
      "source": [
        "original_cols = data.columns.values.tolist()\n",
        "print(original_cols)"
      ],
      "metadata": {
        "id": "SySqBiSv1fij",
        "colab": {
          "base_uri": "https://localhost:8080/"
        },
        "outputId": "39316f0a-ce68-4740-e5da-512d869cca69"
      },
      "execution_count": 4,
      "outputs": [
        {
          "output_type": "stream",
          "name": "stdout",
          "text": [
            "['Country', 'Year', 'Status', 'Life expectancy ', 'Adult Mortality', 'infant deaths', 'Alcohol', 'percentage expenditure', 'Hepatitis B', 'Measles ', ' BMI ', 'under-five deaths ', 'Polio', 'Total expenditure', 'Diphtheria ', ' HIV/AIDS', 'GDP', 'Population', ' thinness  1-19 years', ' thinness 5-9 years', 'Income composition of resources', 'Schooling']\n"
          ]
        }
      ]
    },
    {
      "cell_type": "code",
      "source": [
        "mycols = ['country', 'year', 'nationstatus', 'lifeexpectancy', 'adult_mortality','infant_deaths',\n",
        "          'alcoholconsumption', 'p_expenditure_pergdp', 'hepb_vac_rates','measles', ' bmi', \n",
        "          'under_five_deaths', 'polio', 'p_expenditure',\n",
        "          'diphtheria', ' under_four_hiv/aids', 'gdp', 'population',\n",
        "          'thinness_10to19', 'thinness_5to9', 'hd_index_income', 'schooling_years']"
      ],
      "metadata": {
        "id": "twdMYaE11fmK"
      },
      "execution_count": 5,
      "outputs": []
    },
    {
      "cell_type": "code",
      "source": [
        "data.shape"
      ],
      "metadata": {
        "colab": {
          "base_uri": "https://localhost:8080/"
        },
        "id": "4MiBdvCw0UGZ",
        "outputId": "92ce76d0-02f9-4f52-afc6-03ed0d1d4785"
      },
      "execution_count": 47,
      "outputs": [
        {
          "output_type": "execute_result",
          "data": {
            "text/plain": [
              "(2938, 22)"
            ]
          },
          "metadata": {},
          "execution_count": 47
        }
      ]
    },
    {
      "cell_type": "code",
      "source": [
        "data.columns = mycols\n",
        "display(data.head(3))\n",
        "display(data.sample(3))"
      ],
      "metadata": {
        "colab": {
          "base_uri": "https://localhost:8080/",
          "height": 393
        },
        "id": "lqTLy13e1fqL",
        "outputId": "875f4c40-8215-4081-ed49-d3f24b741f85"
      },
      "execution_count": 6,
      "outputs": [
        {
          "output_type": "display_data",
          "data": {
            "text/plain": [
              "       country  year nationstatus  lifeexpectancy  adult_mortality  \\\n",
              "0  Afghanistan  2015   Developing            65.0            263.0   \n",
              "1  Afghanistan  2014   Developing            59.9            271.0   \n",
              "2  Afghanistan  2013   Developing            59.9            268.0   \n",
              "\n",
              "   infant_deaths  alcoholconsumption  p_expenditure_pergdp  hepb_vac_rates  \\\n",
              "0             62                0.01             71.279624            65.0   \n",
              "1             64                0.01             73.523582            62.0   \n",
              "2             66                0.01             73.219243            64.0   \n",
              "\n",
              "   measles  ...  polio  p_expenditure  diphtheria   under_four_hiv/aids  \\\n",
              "0     1154  ...    6.0           8.16        65.0                   0.1   \n",
              "1      492  ...   58.0           8.18        62.0                   0.1   \n",
              "2      430  ...   62.0           8.13        64.0                   0.1   \n",
              "\n",
              "          gdp  population  thinness_10to19  thinness_5to9  hd_index_income  \\\n",
              "0  584.259210  33736494.0             17.2           17.3            0.479   \n",
              "1  612.696514    327582.0             17.5           17.5            0.476   \n",
              "2  631.744976  31731688.0             17.7           17.7            0.470   \n",
              "\n",
              "   schooling_years  \n",
              "0             10.1  \n",
              "1             10.0  \n",
              "2              9.9  \n",
              "\n",
              "[3 rows x 22 columns]"
            ],
            "text/html": [
              "\n",
              "  <div id=\"df-525881c3-7ae9-4ad9-adeb-dfc459402c5f\">\n",
              "    <div class=\"colab-df-container\">\n",
              "      <div>\n",
              "<style scoped>\n",
              "    .dataframe tbody tr th:only-of-type {\n",
              "        vertical-align: middle;\n",
              "    }\n",
              "\n",
              "    .dataframe tbody tr th {\n",
              "        vertical-align: top;\n",
              "    }\n",
              "\n",
              "    .dataframe thead th {\n",
              "        text-align: right;\n",
              "    }\n",
              "</style>\n",
              "<table border=\"1\" class=\"dataframe\">\n",
              "  <thead>\n",
              "    <tr style=\"text-align: right;\">\n",
              "      <th></th>\n",
              "      <th>country</th>\n",
              "      <th>year</th>\n",
              "      <th>nationstatus</th>\n",
              "      <th>lifeexpectancy</th>\n",
              "      <th>adult_mortality</th>\n",
              "      <th>infant_deaths</th>\n",
              "      <th>alcoholconsumption</th>\n",
              "      <th>p_expenditure_pergdp</th>\n",
              "      <th>hepb_vac_rates</th>\n",
              "      <th>measles</th>\n",
              "      <th>...</th>\n",
              "      <th>polio</th>\n",
              "      <th>p_expenditure</th>\n",
              "      <th>diphtheria</th>\n",
              "      <th>under_four_hiv/aids</th>\n",
              "      <th>gdp</th>\n",
              "      <th>population</th>\n",
              "      <th>thinness_10to19</th>\n",
              "      <th>thinness_5to9</th>\n",
              "      <th>hd_index_income</th>\n",
              "      <th>schooling_years</th>\n",
              "    </tr>\n",
              "  </thead>\n",
              "  <tbody>\n",
              "    <tr>\n",
              "      <th>0</th>\n",
              "      <td>Afghanistan</td>\n",
              "      <td>2015</td>\n",
              "      <td>Developing</td>\n",
              "      <td>65.0</td>\n",
              "      <td>263.0</td>\n",
              "      <td>62</td>\n",
              "      <td>0.01</td>\n",
              "      <td>71.279624</td>\n",
              "      <td>65.0</td>\n",
              "      <td>1154</td>\n",
              "      <td>...</td>\n",
              "      <td>6.0</td>\n",
              "      <td>8.16</td>\n",
              "      <td>65.0</td>\n",
              "      <td>0.1</td>\n",
              "      <td>584.259210</td>\n",
              "      <td>33736494.0</td>\n",
              "      <td>17.2</td>\n",
              "      <td>17.3</td>\n",
              "      <td>0.479</td>\n",
              "      <td>10.1</td>\n",
              "    </tr>\n",
              "    <tr>\n",
              "      <th>1</th>\n",
              "      <td>Afghanistan</td>\n",
              "      <td>2014</td>\n",
              "      <td>Developing</td>\n",
              "      <td>59.9</td>\n",
              "      <td>271.0</td>\n",
              "      <td>64</td>\n",
              "      <td>0.01</td>\n",
              "      <td>73.523582</td>\n",
              "      <td>62.0</td>\n",
              "      <td>492</td>\n",
              "      <td>...</td>\n",
              "      <td>58.0</td>\n",
              "      <td>8.18</td>\n",
              "      <td>62.0</td>\n",
              "      <td>0.1</td>\n",
              "      <td>612.696514</td>\n",
              "      <td>327582.0</td>\n",
              "      <td>17.5</td>\n",
              "      <td>17.5</td>\n",
              "      <td>0.476</td>\n",
              "      <td>10.0</td>\n",
              "    </tr>\n",
              "    <tr>\n",
              "      <th>2</th>\n",
              "      <td>Afghanistan</td>\n",
              "      <td>2013</td>\n",
              "      <td>Developing</td>\n",
              "      <td>59.9</td>\n",
              "      <td>268.0</td>\n",
              "      <td>66</td>\n",
              "      <td>0.01</td>\n",
              "      <td>73.219243</td>\n",
              "      <td>64.0</td>\n",
              "      <td>430</td>\n",
              "      <td>...</td>\n",
              "      <td>62.0</td>\n",
              "      <td>8.13</td>\n",
              "      <td>64.0</td>\n",
              "      <td>0.1</td>\n",
              "      <td>631.744976</td>\n",
              "      <td>31731688.0</td>\n",
              "      <td>17.7</td>\n",
              "      <td>17.7</td>\n",
              "      <td>0.470</td>\n",
              "      <td>9.9</td>\n",
              "    </tr>\n",
              "  </tbody>\n",
              "</table>\n",
              "<p>3 rows × 22 columns</p>\n",
              "</div>\n",
              "      <button class=\"colab-df-convert\" onclick=\"convertToInteractive('df-525881c3-7ae9-4ad9-adeb-dfc459402c5f')\"\n",
              "              title=\"Convert this dataframe to an interactive table.\"\n",
              "              style=\"display:none;\">\n",
              "        \n",
              "  <svg xmlns=\"http://www.w3.org/2000/svg\" height=\"24px\"viewBox=\"0 0 24 24\"\n",
              "       width=\"24px\">\n",
              "    <path d=\"M0 0h24v24H0V0z\" fill=\"none\"/>\n",
              "    <path d=\"M18.56 5.44l.94 2.06.94-2.06 2.06-.94-2.06-.94-.94-2.06-.94 2.06-2.06.94zm-11 1L8.5 8.5l.94-2.06 2.06-.94-2.06-.94L8.5 2.5l-.94 2.06-2.06.94zm10 10l.94 2.06.94-2.06 2.06-.94-2.06-.94-.94-2.06-.94 2.06-2.06.94z\"/><path d=\"M17.41 7.96l-1.37-1.37c-.4-.4-.92-.59-1.43-.59-.52 0-1.04.2-1.43.59L10.3 9.45l-7.72 7.72c-.78.78-.78 2.05 0 2.83L4 21.41c.39.39.9.59 1.41.59.51 0 1.02-.2 1.41-.59l7.78-7.78 2.81-2.81c.8-.78.8-2.07 0-2.86zM5.41 20L4 18.59l7.72-7.72 1.47 1.35L5.41 20z\"/>\n",
              "  </svg>\n",
              "      </button>\n",
              "      \n",
              "  <style>\n",
              "    .colab-df-container {\n",
              "      display:flex;\n",
              "      flex-wrap:wrap;\n",
              "      gap: 12px;\n",
              "    }\n",
              "\n",
              "    .colab-df-convert {\n",
              "      background-color: #E8F0FE;\n",
              "      border: none;\n",
              "      border-radius: 50%;\n",
              "      cursor: pointer;\n",
              "      display: none;\n",
              "      fill: #1967D2;\n",
              "      height: 32px;\n",
              "      padding: 0 0 0 0;\n",
              "      width: 32px;\n",
              "    }\n",
              "\n",
              "    .colab-df-convert:hover {\n",
              "      background-color: #E2EBFA;\n",
              "      box-shadow: 0px 1px 2px rgba(60, 64, 67, 0.3), 0px 1px 3px 1px rgba(60, 64, 67, 0.15);\n",
              "      fill: #174EA6;\n",
              "    }\n",
              "\n",
              "    [theme=dark] .colab-df-convert {\n",
              "      background-color: #3B4455;\n",
              "      fill: #D2E3FC;\n",
              "    }\n",
              "\n",
              "    [theme=dark] .colab-df-convert:hover {\n",
              "      background-color: #434B5C;\n",
              "      box-shadow: 0px 1px 3px 1px rgba(0, 0, 0, 0.15);\n",
              "      filter: drop-shadow(0px 1px 2px rgba(0, 0, 0, 0.3));\n",
              "      fill: #FFFFFF;\n",
              "    }\n",
              "  </style>\n",
              "\n",
              "      <script>\n",
              "        const buttonEl =\n",
              "          document.querySelector('#df-525881c3-7ae9-4ad9-adeb-dfc459402c5f button.colab-df-convert');\n",
              "        buttonEl.style.display =\n",
              "          google.colab.kernel.accessAllowed ? 'block' : 'none';\n",
              "\n",
              "        async function convertToInteractive(key) {\n",
              "          const element = document.querySelector('#df-525881c3-7ae9-4ad9-adeb-dfc459402c5f');\n",
              "          const dataTable =\n",
              "            await google.colab.kernel.invokeFunction('convertToInteractive',\n",
              "                                                     [key], {});\n",
              "          if (!dataTable) return;\n",
              "\n",
              "          const docLinkHtml = 'Like what you see? Visit the ' +\n",
              "            '<a target=\"_blank\" href=https://colab.research.google.com/notebooks/data_table.ipynb>data table notebook</a>'\n",
              "            + ' to learn more about interactive tables.';\n",
              "          element.innerHTML = '';\n",
              "          dataTable['output_type'] = 'display_data';\n",
              "          await google.colab.output.renderOutput(dataTable, element);\n",
              "          const docLink = document.createElement('div');\n",
              "          docLink.innerHTML = docLinkHtml;\n",
              "          element.appendChild(docLink);\n",
              "        }\n",
              "      </script>\n",
              "    </div>\n",
              "  </div>\n",
              "  "
            ]
          },
          "metadata": {}
        },
        {
          "output_type": "display_data",
          "data": {
            "text/plain": [
              "         country  year nationstatus  lifeexpectancy  adult_mortality  \\\n",
              "577     Colombia  2014   Developing            74.6            144.0   \n",
              "1004     Germany  2005    Developed            79.2             85.0   \n",
              "1421  Kyrgyzstan  2004   Developing            67.1            218.0   \n",
              "\n",
              "      infant_deaths  alcoholconsumption  p_expenditure_pergdp  hepb_vac_rates  \\\n",
              "577              11                4.38           1435.487755             9.0   \n",
              "1004              3               11.67           6012.925840             9.0   \n",
              "1421              4                3.41              0.000000            99.0   \n",
              "\n",
              "      measles  ...  polio  p_expenditure  diphtheria   under_four_hiv/aids  \\\n",
              "577         0  ...    9.0           7.20         9.0                   0.1   \n",
              "1004      778  ...   95.0           1.52        96.0                   0.1   \n",
              "1421        8  ...   98.0           5.57        99.0                   0.1   \n",
              "\n",
              "               gdp  population  thinness_10to19  thinness_5to9  \\\n",
              "577    7913.383432  47791911.0              2.1            1.9   \n",
              "1004  34696.629200  82469422.0              1.1            1.1   \n",
              "1421           NaN         NaN              3.4            3.4   \n",
              "\n",
              "      hd_index_income  schooling_years  \n",
              "577             0.720             13.6  \n",
              "1004            0.884             16.4  \n",
              "1421            0.609             12.5  \n",
              "\n",
              "[3 rows x 22 columns]"
            ],
            "text/html": [
              "\n",
              "  <div id=\"df-c50f2313-ba27-4b5c-a2a0-84023130558d\">\n",
              "    <div class=\"colab-df-container\">\n",
              "      <div>\n",
              "<style scoped>\n",
              "    .dataframe tbody tr th:only-of-type {\n",
              "        vertical-align: middle;\n",
              "    }\n",
              "\n",
              "    .dataframe tbody tr th {\n",
              "        vertical-align: top;\n",
              "    }\n",
              "\n",
              "    .dataframe thead th {\n",
              "        text-align: right;\n",
              "    }\n",
              "</style>\n",
              "<table border=\"1\" class=\"dataframe\">\n",
              "  <thead>\n",
              "    <tr style=\"text-align: right;\">\n",
              "      <th></th>\n",
              "      <th>country</th>\n",
              "      <th>year</th>\n",
              "      <th>nationstatus</th>\n",
              "      <th>lifeexpectancy</th>\n",
              "      <th>adult_mortality</th>\n",
              "      <th>infant_deaths</th>\n",
              "      <th>alcoholconsumption</th>\n",
              "      <th>p_expenditure_pergdp</th>\n",
              "      <th>hepb_vac_rates</th>\n",
              "      <th>measles</th>\n",
              "      <th>...</th>\n",
              "      <th>polio</th>\n",
              "      <th>p_expenditure</th>\n",
              "      <th>diphtheria</th>\n",
              "      <th>under_four_hiv/aids</th>\n",
              "      <th>gdp</th>\n",
              "      <th>population</th>\n",
              "      <th>thinness_10to19</th>\n",
              "      <th>thinness_5to9</th>\n",
              "      <th>hd_index_income</th>\n",
              "      <th>schooling_years</th>\n",
              "    </tr>\n",
              "  </thead>\n",
              "  <tbody>\n",
              "    <tr>\n",
              "      <th>577</th>\n",
              "      <td>Colombia</td>\n",
              "      <td>2014</td>\n",
              "      <td>Developing</td>\n",
              "      <td>74.6</td>\n",
              "      <td>144.0</td>\n",
              "      <td>11</td>\n",
              "      <td>4.38</td>\n",
              "      <td>1435.487755</td>\n",
              "      <td>9.0</td>\n",
              "      <td>0</td>\n",
              "      <td>...</td>\n",
              "      <td>9.0</td>\n",
              "      <td>7.20</td>\n",
              "      <td>9.0</td>\n",
              "      <td>0.1</td>\n",
              "      <td>7913.383432</td>\n",
              "      <td>47791911.0</td>\n",
              "      <td>2.1</td>\n",
              "      <td>1.9</td>\n",
              "      <td>0.720</td>\n",
              "      <td>13.6</td>\n",
              "    </tr>\n",
              "    <tr>\n",
              "      <th>1004</th>\n",
              "      <td>Germany</td>\n",
              "      <td>2005</td>\n",
              "      <td>Developed</td>\n",
              "      <td>79.2</td>\n",
              "      <td>85.0</td>\n",
              "      <td>3</td>\n",
              "      <td>11.67</td>\n",
              "      <td>6012.925840</td>\n",
              "      <td>9.0</td>\n",
              "      <td>778</td>\n",
              "      <td>...</td>\n",
              "      <td>95.0</td>\n",
              "      <td>1.52</td>\n",
              "      <td>96.0</td>\n",
              "      <td>0.1</td>\n",
              "      <td>34696.629200</td>\n",
              "      <td>82469422.0</td>\n",
              "      <td>1.1</td>\n",
              "      <td>1.1</td>\n",
              "      <td>0.884</td>\n",
              "      <td>16.4</td>\n",
              "    </tr>\n",
              "    <tr>\n",
              "      <th>1421</th>\n",
              "      <td>Kyrgyzstan</td>\n",
              "      <td>2004</td>\n",
              "      <td>Developing</td>\n",
              "      <td>67.1</td>\n",
              "      <td>218.0</td>\n",
              "      <td>4</td>\n",
              "      <td>3.41</td>\n",
              "      <td>0.000000</td>\n",
              "      <td>99.0</td>\n",
              "      <td>8</td>\n",
              "      <td>...</td>\n",
              "      <td>98.0</td>\n",
              "      <td>5.57</td>\n",
              "      <td>99.0</td>\n",
              "      <td>0.1</td>\n",
              "      <td>NaN</td>\n",
              "      <td>NaN</td>\n",
              "      <td>3.4</td>\n",
              "      <td>3.4</td>\n",
              "      <td>0.609</td>\n",
              "      <td>12.5</td>\n",
              "    </tr>\n",
              "  </tbody>\n",
              "</table>\n",
              "<p>3 rows × 22 columns</p>\n",
              "</div>\n",
              "      <button class=\"colab-df-convert\" onclick=\"convertToInteractive('df-c50f2313-ba27-4b5c-a2a0-84023130558d')\"\n",
              "              title=\"Convert this dataframe to an interactive table.\"\n",
              "              style=\"display:none;\">\n",
              "        \n",
              "  <svg xmlns=\"http://www.w3.org/2000/svg\" height=\"24px\"viewBox=\"0 0 24 24\"\n",
              "       width=\"24px\">\n",
              "    <path d=\"M0 0h24v24H0V0z\" fill=\"none\"/>\n",
              "    <path d=\"M18.56 5.44l.94 2.06.94-2.06 2.06-.94-2.06-.94-.94-2.06-.94 2.06-2.06.94zm-11 1L8.5 8.5l.94-2.06 2.06-.94-2.06-.94L8.5 2.5l-.94 2.06-2.06.94zm10 10l.94 2.06.94-2.06 2.06-.94-2.06-.94-.94-2.06-.94 2.06-2.06.94z\"/><path d=\"M17.41 7.96l-1.37-1.37c-.4-.4-.92-.59-1.43-.59-.52 0-1.04.2-1.43.59L10.3 9.45l-7.72 7.72c-.78.78-.78 2.05 0 2.83L4 21.41c.39.39.9.59 1.41.59.51 0 1.02-.2 1.41-.59l7.78-7.78 2.81-2.81c.8-.78.8-2.07 0-2.86zM5.41 20L4 18.59l7.72-7.72 1.47 1.35L5.41 20z\"/>\n",
              "  </svg>\n",
              "      </button>\n",
              "      \n",
              "  <style>\n",
              "    .colab-df-container {\n",
              "      display:flex;\n",
              "      flex-wrap:wrap;\n",
              "      gap: 12px;\n",
              "    }\n",
              "\n",
              "    .colab-df-convert {\n",
              "      background-color: #E8F0FE;\n",
              "      border: none;\n",
              "      border-radius: 50%;\n",
              "      cursor: pointer;\n",
              "      display: none;\n",
              "      fill: #1967D2;\n",
              "      height: 32px;\n",
              "      padding: 0 0 0 0;\n",
              "      width: 32px;\n",
              "    }\n",
              "\n",
              "    .colab-df-convert:hover {\n",
              "      background-color: #E2EBFA;\n",
              "      box-shadow: 0px 1px 2px rgba(60, 64, 67, 0.3), 0px 1px 3px 1px rgba(60, 64, 67, 0.15);\n",
              "      fill: #174EA6;\n",
              "    }\n",
              "\n",
              "    [theme=dark] .colab-df-convert {\n",
              "      background-color: #3B4455;\n",
              "      fill: #D2E3FC;\n",
              "    }\n",
              "\n",
              "    [theme=dark] .colab-df-convert:hover {\n",
              "      background-color: #434B5C;\n",
              "      box-shadow: 0px 1px 3px 1px rgba(0, 0, 0, 0.15);\n",
              "      filter: drop-shadow(0px 1px 2px rgba(0, 0, 0, 0.3));\n",
              "      fill: #FFFFFF;\n",
              "    }\n",
              "  </style>\n",
              "\n",
              "      <script>\n",
              "        const buttonEl =\n",
              "          document.querySelector('#df-c50f2313-ba27-4b5c-a2a0-84023130558d button.colab-df-convert');\n",
              "        buttonEl.style.display =\n",
              "          google.colab.kernel.accessAllowed ? 'block' : 'none';\n",
              "\n",
              "        async function convertToInteractive(key) {\n",
              "          const element = document.querySelector('#df-c50f2313-ba27-4b5c-a2a0-84023130558d');\n",
              "          const dataTable =\n",
              "            await google.colab.kernel.invokeFunction('convertToInteractive',\n",
              "                                                     [key], {});\n",
              "          if (!dataTable) return;\n",
              "\n",
              "          const docLinkHtml = 'Like what you see? Visit the ' +\n",
              "            '<a target=\"_blank\" href=https://colab.research.google.com/notebooks/data_table.ipynb>data table notebook</a>'\n",
              "            + ' to learn more about interactive tables.';\n",
              "          element.innerHTML = '';\n",
              "          dataTable['output_type'] = 'display_data';\n",
              "          await google.colab.output.renderOutput(dataTable, element);\n",
              "          const docLink = document.createElement('div');\n",
              "          docLink.innerHTML = docLinkHtml;\n",
              "          element.appendChild(docLink);\n",
              "        }\n",
              "      </script>\n",
              "    </div>\n",
              "  </div>\n",
              "  "
            ]
          },
          "metadata": {}
        }
      ]
    },
    {
      "cell_type": "code",
      "source": [
        "data.info()"
      ],
      "metadata": {
        "colab": {
          "base_uri": "https://localhost:8080/"
        },
        "id": "r0j7F9Fq0R9N",
        "outputId": "0090c675-9ccb-4ddb-9542-4278c49170bd"
      },
      "execution_count": 48,
      "outputs": [
        {
          "output_type": "stream",
          "name": "stdout",
          "text": [
            "<class 'pandas.core.frame.DataFrame'>\n",
            "RangeIndex: 2938 entries, 0 to 2937\n",
            "Data columns (total 22 columns):\n",
            " #   Column                Non-Null Count  Dtype  \n",
            "---  ------                --------------  -----  \n",
            " 0   country               2938 non-null   object \n",
            " 1   year                  2938 non-null   int64  \n",
            " 2   nationstatus          2938 non-null   object \n",
            " 3   lifeexpectancy        2928 non-null   float64\n",
            " 4   adult_mortality       2928 non-null   float64\n",
            " 5   infant_deaths         2938 non-null   int64  \n",
            " 6   alcoholconsumption    2744 non-null   float64\n",
            " 7   p_expenditure_pergdp  2938 non-null   float64\n",
            " 8   hepb_vac_rates        2385 non-null   float64\n",
            " 9   measles               2938 non-null   int64  \n",
            " 10   bmi                  2904 non-null   float64\n",
            " 11  under_five_deaths     2938 non-null   int64  \n",
            " 12  polio                 2919 non-null   float64\n",
            " 13  p_expenditure         2712 non-null   float64\n",
            " 14  diphtheria            2919 non-null   float64\n",
            " 15   under_four_hiv/aids  2938 non-null   float64\n",
            " 16  gdp                   2490 non-null   float64\n",
            " 17  population            2286 non-null   float64\n",
            " 18  thinness_10to19       2904 non-null   float64\n",
            " 19  thinness_5to9         2904 non-null   float64\n",
            " 20  hd_index_income       2771 non-null   float64\n",
            " 21  schooling_years       2775 non-null   float64\n",
            "dtypes: float64(16), int64(4), object(2)\n",
            "memory usage: 505.1+ KB\n"
          ]
        }
      ]
    },
    {
      "cell_type": "code",
      "source": [
        ""
      ],
      "metadata": {
        "id": "4M939gHe0SAq"
      },
      "execution_count": null,
      "outputs": []
    },
    {
      "cell_type": "code",
      "source": [
        ""
      ],
      "metadata": {
        "id": "Ou7QtR7E0SFE"
      },
      "execution_count": null,
      "outputs": []
    },
    {
      "cell_type": "markdown",
      "source": [
        "### 3.1. 기술통계"
      ],
      "metadata": {
        "id": "3ULMmcrTvePA"
      }
    },
    {
      "cell_type": "code",
      "source": [
        "display(data.describe().loc[:,'year':'under_five_deaths'])\n",
        "display(data.describe().loc[:,'polio':])\n"
      ],
      "metadata": {
        "colab": {
          "base_uri": "https://localhost:8080/",
          "height": 583
        },
        "id": "ffL6CzmD9T9H",
        "outputId": "3c2d8491-55eb-4f74-b414-05850e7cdcf0"
      },
      "execution_count": 35,
      "outputs": [
        {
          "output_type": "display_data",
          "data": {
            "text/plain": [
              "              year  lifeexpectancy  adult_mortality  infant_deaths  \\\n",
              "count  2938.000000     2928.000000      2928.000000    2938.000000   \n",
              "mean   2007.518720       69.224932       164.796448      30.303948   \n",
              "std       4.613841        9.523867       124.292079     117.926501   \n",
              "min    2000.000000       36.300000         1.000000       0.000000   \n",
              "25%    2004.000000       63.100000        74.000000       0.000000   \n",
              "50%    2008.000000       72.100000       144.000000       3.000000   \n",
              "75%    2012.000000       75.700000       228.000000      22.000000   \n",
              "max    2015.000000       89.000000       723.000000    1800.000000   \n",
              "\n",
              "       alcoholconsumption  p_expenditure_pergdp  hepb_vac_rates  \\\n",
              "count         2744.000000           2938.000000     2385.000000   \n",
              "mean             4.602861            738.251295       80.940461   \n",
              "std              4.052413           1987.914858       25.070016   \n",
              "min              0.010000              0.000000        1.000000   \n",
              "25%              0.877500              4.685343       77.000000   \n",
              "50%              3.755000             64.912906       92.000000   \n",
              "75%              7.702500            441.534144       97.000000   \n",
              "max             17.870000          19479.911610       99.000000   \n",
              "\n",
              "             measles          bmi  under_five_deaths  \n",
              "count    2938.000000  2904.000000        2938.000000  \n",
              "mean     2419.592240    38.321247          42.035739  \n",
              "std     11467.272489    20.044034         160.445548  \n",
              "min         0.000000     1.000000           0.000000  \n",
              "25%         0.000000    19.300000           0.000000  \n",
              "50%        17.000000    43.500000           4.000000  \n",
              "75%       360.250000    56.200000          28.000000  \n",
              "max    212183.000000    87.300000        2500.000000  "
            ],
            "text/html": [
              "\n",
              "  <div id=\"df-a5652dec-cc9d-4baa-95cb-a8164c4907b6\">\n",
              "    <div class=\"colab-df-container\">\n",
              "      <div>\n",
              "<style scoped>\n",
              "    .dataframe tbody tr th:only-of-type {\n",
              "        vertical-align: middle;\n",
              "    }\n",
              "\n",
              "    .dataframe tbody tr th {\n",
              "        vertical-align: top;\n",
              "    }\n",
              "\n",
              "    .dataframe thead th {\n",
              "        text-align: right;\n",
              "    }\n",
              "</style>\n",
              "<table border=\"1\" class=\"dataframe\">\n",
              "  <thead>\n",
              "    <tr style=\"text-align: right;\">\n",
              "      <th></th>\n",
              "      <th>year</th>\n",
              "      <th>lifeexpectancy</th>\n",
              "      <th>adult_mortality</th>\n",
              "      <th>infant_deaths</th>\n",
              "      <th>alcoholconsumption</th>\n",
              "      <th>p_expenditure_pergdp</th>\n",
              "      <th>hepb_vac_rates</th>\n",
              "      <th>measles</th>\n",
              "      <th>bmi</th>\n",
              "      <th>under_five_deaths</th>\n",
              "    </tr>\n",
              "  </thead>\n",
              "  <tbody>\n",
              "    <tr>\n",
              "      <th>count</th>\n",
              "      <td>2938.000000</td>\n",
              "      <td>2928.000000</td>\n",
              "      <td>2928.000000</td>\n",
              "      <td>2938.000000</td>\n",
              "      <td>2744.000000</td>\n",
              "      <td>2938.000000</td>\n",
              "      <td>2385.000000</td>\n",
              "      <td>2938.000000</td>\n",
              "      <td>2904.000000</td>\n",
              "      <td>2938.000000</td>\n",
              "    </tr>\n",
              "    <tr>\n",
              "      <th>mean</th>\n",
              "      <td>2007.518720</td>\n",
              "      <td>69.224932</td>\n",
              "      <td>164.796448</td>\n",
              "      <td>30.303948</td>\n",
              "      <td>4.602861</td>\n",
              "      <td>738.251295</td>\n",
              "      <td>80.940461</td>\n",
              "      <td>2419.592240</td>\n",
              "      <td>38.321247</td>\n",
              "      <td>42.035739</td>\n",
              "    </tr>\n",
              "    <tr>\n",
              "      <th>std</th>\n",
              "      <td>4.613841</td>\n",
              "      <td>9.523867</td>\n",
              "      <td>124.292079</td>\n",
              "      <td>117.926501</td>\n",
              "      <td>4.052413</td>\n",
              "      <td>1987.914858</td>\n",
              "      <td>25.070016</td>\n",
              "      <td>11467.272489</td>\n",
              "      <td>20.044034</td>\n",
              "      <td>160.445548</td>\n",
              "    </tr>\n",
              "    <tr>\n",
              "      <th>min</th>\n",
              "      <td>2000.000000</td>\n",
              "      <td>36.300000</td>\n",
              "      <td>1.000000</td>\n",
              "      <td>0.000000</td>\n",
              "      <td>0.010000</td>\n",
              "      <td>0.000000</td>\n",
              "      <td>1.000000</td>\n",
              "      <td>0.000000</td>\n",
              "      <td>1.000000</td>\n",
              "      <td>0.000000</td>\n",
              "    </tr>\n",
              "    <tr>\n",
              "      <th>25%</th>\n",
              "      <td>2004.000000</td>\n",
              "      <td>63.100000</td>\n",
              "      <td>74.000000</td>\n",
              "      <td>0.000000</td>\n",
              "      <td>0.877500</td>\n",
              "      <td>4.685343</td>\n",
              "      <td>77.000000</td>\n",
              "      <td>0.000000</td>\n",
              "      <td>19.300000</td>\n",
              "      <td>0.000000</td>\n",
              "    </tr>\n",
              "    <tr>\n",
              "      <th>50%</th>\n",
              "      <td>2008.000000</td>\n",
              "      <td>72.100000</td>\n",
              "      <td>144.000000</td>\n",
              "      <td>3.000000</td>\n",
              "      <td>3.755000</td>\n",
              "      <td>64.912906</td>\n",
              "      <td>92.000000</td>\n",
              "      <td>17.000000</td>\n",
              "      <td>43.500000</td>\n",
              "      <td>4.000000</td>\n",
              "    </tr>\n",
              "    <tr>\n",
              "      <th>75%</th>\n",
              "      <td>2012.000000</td>\n",
              "      <td>75.700000</td>\n",
              "      <td>228.000000</td>\n",
              "      <td>22.000000</td>\n",
              "      <td>7.702500</td>\n",
              "      <td>441.534144</td>\n",
              "      <td>97.000000</td>\n",
              "      <td>360.250000</td>\n",
              "      <td>56.200000</td>\n",
              "      <td>28.000000</td>\n",
              "    </tr>\n",
              "    <tr>\n",
              "      <th>max</th>\n",
              "      <td>2015.000000</td>\n",
              "      <td>89.000000</td>\n",
              "      <td>723.000000</td>\n",
              "      <td>1800.000000</td>\n",
              "      <td>17.870000</td>\n",
              "      <td>19479.911610</td>\n",
              "      <td>99.000000</td>\n",
              "      <td>212183.000000</td>\n",
              "      <td>87.300000</td>\n",
              "      <td>2500.000000</td>\n",
              "    </tr>\n",
              "  </tbody>\n",
              "</table>\n",
              "</div>\n",
              "      <button class=\"colab-df-convert\" onclick=\"convertToInteractive('df-a5652dec-cc9d-4baa-95cb-a8164c4907b6')\"\n",
              "              title=\"Convert this dataframe to an interactive table.\"\n",
              "              style=\"display:none;\">\n",
              "        \n",
              "  <svg xmlns=\"http://www.w3.org/2000/svg\" height=\"24px\"viewBox=\"0 0 24 24\"\n",
              "       width=\"24px\">\n",
              "    <path d=\"M0 0h24v24H0V0z\" fill=\"none\"/>\n",
              "    <path d=\"M18.56 5.44l.94 2.06.94-2.06 2.06-.94-2.06-.94-.94-2.06-.94 2.06-2.06.94zm-11 1L8.5 8.5l.94-2.06 2.06-.94-2.06-.94L8.5 2.5l-.94 2.06-2.06.94zm10 10l.94 2.06.94-2.06 2.06-.94-2.06-.94-.94-2.06-.94 2.06-2.06.94z\"/><path d=\"M17.41 7.96l-1.37-1.37c-.4-.4-.92-.59-1.43-.59-.52 0-1.04.2-1.43.59L10.3 9.45l-7.72 7.72c-.78.78-.78 2.05 0 2.83L4 21.41c.39.39.9.59 1.41.59.51 0 1.02-.2 1.41-.59l7.78-7.78 2.81-2.81c.8-.78.8-2.07 0-2.86zM5.41 20L4 18.59l7.72-7.72 1.47 1.35L5.41 20z\"/>\n",
              "  </svg>\n",
              "      </button>\n",
              "      \n",
              "  <style>\n",
              "    .colab-df-container {\n",
              "      display:flex;\n",
              "      flex-wrap:wrap;\n",
              "      gap: 12px;\n",
              "    }\n",
              "\n",
              "    .colab-df-convert {\n",
              "      background-color: #E8F0FE;\n",
              "      border: none;\n",
              "      border-radius: 50%;\n",
              "      cursor: pointer;\n",
              "      display: none;\n",
              "      fill: #1967D2;\n",
              "      height: 32px;\n",
              "      padding: 0 0 0 0;\n",
              "      width: 32px;\n",
              "    }\n",
              "\n",
              "    .colab-df-convert:hover {\n",
              "      background-color: #E2EBFA;\n",
              "      box-shadow: 0px 1px 2px rgba(60, 64, 67, 0.3), 0px 1px 3px 1px rgba(60, 64, 67, 0.15);\n",
              "      fill: #174EA6;\n",
              "    }\n",
              "\n",
              "    [theme=dark] .colab-df-convert {\n",
              "      background-color: #3B4455;\n",
              "      fill: #D2E3FC;\n",
              "    }\n",
              "\n",
              "    [theme=dark] .colab-df-convert:hover {\n",
              "      background-color: #434B5C;\n",
              "      box-shadow: 0px 1px 3px 1px rgba(0, 0, 0, 0.15);\n",
              "      filter: drop-shadow(0px 1px 2px rgba(0, 0, 0, 0.3));\n",
              "      fill: #FFFFFF;\n",
              "    }\n",
              "  </style>\n",
              "\n",
              "      <script>\n",
              "        const buttonEl =\n",
              "          document.querySelector('#df-a5652dec-cc9d-4baa-95cb-a8164c4907b6 button.colab-df-convert');\n",
              "        buttonEl.style.display =\n",
              "          google.colab.kernel.accessAllowed ? 'block' : 'none';\n",
              "\n",
              "        async function convertToInteractive(key) {\n",
              "          const element = document.querySelector('#df-a5652dec-cc9d-4baa-95cb-a8164c4907b6');\n",
              "          const dataTable =\n",
              "            await google.colab.kernel.invokeFunction('convertToInteractive',\n",
              "                                                     [key], {});\n",
              "          if (!dataTable) return;\n",
              "\n",
              "          const docLinkHtml = 'Like what you see? Visit the ' +\n",
              "            '<a target=\"_blank\" href=https://colab.research.google.com/notebooks/data_table.ipynb>data table notebook</a>'\n",
              "            + ' to learn more about interactive tables.';\n",
              "          element.innerHTML = '';\n",
              "          dataTable['output_type'] = 'display_data';\n",
              "          await google.colab.output.renderOutput(dataTable, element);\n",
              "          const docLink = document.createElement('div');\n",
              "          docLink.innerHTML = docLinkHtml;\n",
              "          element.appendChild(docLink);\n",
              "        }\n",
              "      </script>\n",
              "    </div>\n",
              "  </div>\n",
              "  "
            ]
          },
          "metadata": {}
        },
        {
          "output_type": "display_data",
          "data": {
            "text/plain": [
              "             polio  p_expenditure   diphtheria   under_four_hiv/aids  \\\n",
              "count  2919.000000     2712.00000  2919.000000           2938.000000   \n",
              "mean     82.550188        5.93819    82.324084              1.742103   \n",
              "std      23.428046        2.49832    23.716912              5.077785   \n",
              "min       3.000000        0.37000     2.000000              0.100000   \n",
              "25%      78.000000        4.26000    78.000000              0.100000   \n",
              "50%      93.000000        5.75500    93.000000              0.100000   \n",
              "75%      97.000000        7.49250    97.000000              0.800000   \n",
              "max      99.000000       17.60000    99.000000             50.600000   \n",
              "\n",
              "                 gdp    population  thinness_10to19  thinness_5to9  \\\n",
              "count    2490.000000  2.286000e+03      2904.000000    2904.000000   \n",
              "mean     7483.158469  1.275338e+07         4.839704       4.870317   \n",
              "std     14270.169342  6.101210e+07         4.420195       4.508882   \n",
              "min         1.681350  3.400000e+01         0.100000       0.100000   \n",
              "25%       463.935626  1.957932e+05         1.600000       1.500000   \n",
              "50%      1766.947595  1.386542e+06         3.300000       3.300000   \n",
              "75%      5910.806335  7.420359e+06         7.200000       7.200000   \n",
              "max    119172.741800  1.293859e+09        27.700000      28.600000   \n",
              "\n",
              "       hd_index_income  schooling_years  \n",
              "count      2771.000000      2775.000000  \n",
              "mean          0.627551        11.992793  \n",
              "std           0.210904         3.358920  \n",
              "min           0.000000         0.000000  \n",
              "25%           0.493000        10.100000  \n",
              "50%           0.677000        12.300000  \n",
              "75%           0.779000        14.300000  \n",
              "max           0.948000        20.700000  "
            ],
            "text/html": [
              "\n",
              "  <div id=\"df-9729e373-4796-4a84-9ce6-a45172793ad6\">\n",
              "    <div class=\"colab-df-container\">\n",
              "      <div>\n",
              "<style scoped>\n",
              "    .dataframe tbody tr th:only-of-type {\n",
              "        vertical-align: middle;\n",
              "    }\n",
              "\n",
              "    .dataframe tbody tr th {\n",
              "        vertical-align: top;\n",
              "    }\n",
              "\n",
              "    .dataframe thead th {\n",
              "        text-align: right;\n",
              "    }\n",
              "</style>\n",
              "<table border=\"1\" class=\"dataframe\">\n",
              "  <thead>\n",
              "    <tr style=\"text-align: right;\">\n",
              "      <th></th>\n",
              "      <th>polio</th>\n",
              "      <th>p_expenditure</th>\n",
              "      <th>diphtheria</th>\n",
              "      <th>under_four_hiv/aids</th>\n",
              "      <th>gdp</th>\n",
              "      <th>population</th>\n",
              "      <th>thinness_10to19</th>\n",
              "      <th>thinness_5to9</th>\n",
              "      <th>hd_index_income</th>\n",
              "      <th>schooling_years</th>\n",
              "    </tr>\n",
              "  </thead>\n",
              "  <tbody>\n",
              "    <tr>\n",
              "      <th>count</th>\n",
              "      <td>2919.000000</td>\n",
              "      <td>2712.00000</td>\n",
              "      <td>2919.000000</td>\n",
              "      <td>2938.000000</td>\n",
              "      <td>2490.000000</td>\n",
              "      <td>2.286000e+03</td>\n",
              "      <td>2904.000000</td>\n",
              "      <td>2904.000000</td>\n",
              "      <td>2771.000000</td>\n",
              "      <td>2775.000000</td>\n",
              "    </tr>\n",
              "    <tr>\n",
              "      <th>mean</th>\n",
              "      <td>82.550188</td>\n",
              "      <td>5.93819</td>\n",
              "      <td>82.324084</td>\n",
              "      <td>1.742103</td>\n",
              "      <td>7483.158469</td>\n",
              "      <td>1.275338e+07</td>\n",
              "      <td>4.839704</td>\n",
              "      <td>4.870317</td>\n",
              "      <td>0.627551</td>\n",
              "      <td>11.992793</td>\n",
              "    </tr>\n",
              "    <tr>\n",
              "      <th>std</th>\n",
              "      <td>23.428046</td>\n",
              "      <td>2.49832</td>\n",
              "      <td>23.716912</td>\n",
              "      <td>5.077785</td>\n",
              "      <td>14270.169342</td>\n",
              "      <td>6.101210e+07</td>\n",
              "      <td>4.420195</td>\n",
              "      <td>4.508882</td>\n",
              "      <td>0.210904</td>\n",
              "      <td>3.358920</td>\n",
              "    </tr>\n",
              "    <tr>\n",
              "      <th>min</th>\n",
              "      <td>3.000000</td>\n",
              "      <td>0.37000</td>\n",
              "      <td>2.000000</td>\n",
              "      <td>0.100000</td>\n",
              "      <td>1.681350</td>\n",
              "      <td>3.400000e+01</td>\n",
              "      <td>0.100000</td>\n",
              "      <td>0.100000</td>\n",
              "      <td>0.000000</td>\n",
              "      <td>0.000000</td>\n",
              "    </tr>\n",
              "    <tr>\n",
              "      <th>25%</th>\n",
              "      <td>78.000000</td>\n",
              "      <td>4.26000</td>\n",
              "      <td>78.000000</td>\n",
              "      <td>0.100000</td>\n",
              "      <td>463.935626</td>\n",
              "      <td>1.957932e+05</td>\n",
              "      <td>1.600000</td>\n",
              "      <td>1.500000</td>\n",
              "      <td>0.493000</td>\n",
              "      <td>10.100000</td>\n",
              "    </tr>\n",
              "    <tr>\n",
              "      <th>50%</th>\n",
              "      <td>93.000000</td>\n",
              "      <td>5.75500</td>\n",
              "      <td>93.000000</td>\n",
              "      <td>0.100000</td>\n",
              "      <td>1766.947595</td>\n",
              "      <td>1.386542e+06</td>\n",
              "      <td>3.300000</td>\n",
              "      <td>3.300000</td>\n",
              "      <td>0.677000</td>\n",
              "      <td>12.300000</td>\n",
              "    </tr>\n",
              "    <tr>\n",
              "      <th>75%</th>\n",
              "      <td>97.000000</td>\n",
              "      <td>7.49250</td>\n",
              "      <td>97.000000</td>\n",
              "      <td>0.800000</td>\n",
              "      <td>5910.806335</td>\n",
              "      <td>7.420359e+06</td>\n",
              "      <td>7.200000</td>\n",
              "      <td>7.200000</td>\n",
              "      <td>0.779000</td>\n",
              "      <td>14.300000</td>\n",
              "    </tr>\n",
              "    <tr>\n",
              "      <th>max</th>\n",
              "      <td>99.000000</td>\n",
              "      <td>17.60000</td>\n",
              "      <td>99.000000</td>\n",
              "      <td>50.600000</td>\n",
              "      <td>119172.741800</td>\n",
              "      <td>1.293859e+09</td>\n",
              "      <td>27.700000</td>\n",
              "      <td>28.600000</td>\n",
              "      <td>0.948000</td>\n",
              "      <td>20.700000</td>\n",
              "    </tr>\n",
              "  </tbody>\n",
              "</table>\n",
              "</div>\n",
              "      <button class=\"colab-df-convert\" onclick=\"convertToInteractive('df-9729e373-4796-4a84-9ce6-a45172793ad6')\"\n",
              "              title=\"Convert this dataframe to an interactive table.\"\n",
              "              style=\"display:none;\">\n",
              "        \n",
              "  <svg xmlns=\"http://www.w3.org/2000/svg\" height=\"24px\"viewBox=\"0 0 24 24\"\n",
              "       width=\"24px\">\n",
              "    <path d=\"M0 0h24v24H0V0z\" fill=\"none\"/>\n",
              "    <path d=\"M18.56 5.44l.94 2.06.94-2.06 2.06-.94-2.06-.94-.94-2.06-.94 2.06-2.06.94zm-11 1L8.5 8.5l.94-2.06 2.06-.94-2.06-.94L8.5 2.5l-.94 2.06-2.06.94zm10 10l.94 2.06.94-2.06 2.06-.94-2.06-.94-.94-2.06-.94 2.06-2.06.94z\"/><path d=\"M17.41 7.96l-1.37-1.37c-.4-.4-.92-.59-1.43-.59-.52 0-1.04.2-1.43.59L10.3 9.45l-7.72 7.72c-.78.78-.78 2.05 0 2.83L4 21.41c.39.39.9.59 1.41.59.51 0 1.02-.2 1.41-.59l7.78-7.78 2.81-2.81c.8-.78.8-2.07 0-2.86zM5.41 20L4 18.59l7.72-7.72 1.47 1.35L5.41 20z\"/>\n",
              "  </svg>\n",
              "      </button>\n",
              "      \n",
              "  <style>\n",
              "    .colab-df-container {\n",
              "      display:flex;\n",
              "      flex-wrap:wrap;\n",
              "      gap: 12px;\n",
              "    }\n",
              "\n",
              "    .colab-df-convert {\n",
              "      background-color: #E8F0FE;\n",
              "      border: none;\n",
              "      border-radius: 50%;\n",
              "      cursor: pointer;\n",
              "      display: none;\n",
              "      fill: #1967D2;\n",
              "      height: 32px;\n",
              "      padding: 0 0 0 0;\n",
              "      width: 32px;\n",
              "    }\n",
              "\n",
              "    .colab-df-convert:hover {\n",
              "      background-color: #E2EBFA;\n",
              "      box-shadow: 0px 1px 2px rgba(60, 64, 67, 0.3), 0px 1px 3px 1px rgba(60, 64, 67, 0.15);\n",
              "      fill: #174EA6;\n",
              "    }\n",
              "\n",
              "    [theme=dark] .colab-df-convert {\n",
              "      background-color: #3B4455;\n",
              "      fill: #D2E3FC;\n",
              "    }\n",
              "\n",
              "    [theme=dark] .colab-df-convert:hover {\n",
              "      background-color: #434B5C;\n",
              "      box-shadow: 0px 1px 3px 1px rgba(0, 0, 0, 0.15);\n",
              "      filter: drop-shadow(0px 1px 2px rgba(0, 0, 0, 0.3));\n",
              "      fill: #FFFFFF;\n",
              "    }\n",
              "  </style>\n",
              "\n",
              "      <script>\n",
              "        const buttonEl =\n",
              "          document.querySelector('#df-9729e373-4796-4a84-9ce6-a45172793ad6 button.colab-df-convert');\n",
              "        buttonEl.style.display =\n",
              "          google.colab.kernel.accessAllowed ? 'block' : 'none';\n",
              "\n",
              "        async function convertToInteractive(key) {\n",
              "          const element = document.querySelector('#df-9729e373-4796-4a84-9ce6-a45172793ad6');\n",
              "          const dataTable =\n",
              "            await google.colab.kernel.invokeFunction('convertToInteractive',\n",
              "                                                     [key], {});\n",
              "          if (!dataTable) return;\n",
              "\n",
              "          const docLinkHtml = 'Like what you see? Visit the ' +\n",
              "            '<a target=\"_blank\" href=https://colab.research.google.com/notebooks/data_table.ipynb>data table notebook</a>'\n",
              "            + ' to learn more about interactive tables.';\n",
              "          element.innerHTML = '';\n",
              "          dataTable['output_type'] = 'display_data';\n",
              "          await google.colab.output.renderOutput(dataTable, element);\n",
              "          const docLink = document.createElement('div');\n",
              "          docLink.innerHTML = docLinkHtml;\n",
              "          element.appendChild(docLink);\n",
              "        }\n",
              "      </script>\n",
              "    </div>\n",
              "  </div>\n",
              "  "
            ]
          },
          "metadata": {}
        }
      ]
    },
    {
      "cell_type": "code",
      "source": [
        "data.hist(figsize = (15,10), bins = 50)"
      ],
      "metadata": {
        "colab": {
          "base_uri": "https://localhost:8080/",
          "height": 988
        },
        "id": "YqVLCWqRSunq",
        "outputId": "0aeeba92-c8ec-4dd5-c2f3-d385c7d36e03"
      },
      "execution_count": 8,
      "outputs": [
        {
          "output_type": "execute_result",
          "data": {
            "text/plain": [
              "array([[<matplotlib.axes._subplots.AxesSubplot object at 0x7f3bc703af10>,\n",
              "        <matplotlib.axes._subplots.AxesSubplot object at 0x7f3bc7016250>,\n",
              "        <matplotlib.axes._subplots.AxesSubplot object at 0x7f3bc6fca850>,\n",
              "        <matplotlib.axes._subplots.AxesSubplot object at 0x7f3bc6f82e50>],\n",
              "       [<matplotlib.axes._subplots.AxesSubplot object at 0x7f3bc6f44490>,\n",
              "        <matplotlib.axes._subplots.AxesSubplot object at 0x7f3bc6efba90>,\n",
              "        <matplotlib.axes._subplots.AxesSubplot object at 0x7f3bc6ec0150>,\n",
              "        <matplotlib.axes._subplots.AxesSubplot object at 0x7f3bc6ef5690>],\n",
              "       [<matplotlib.axes._subplots.AxesSubplot object at 0x7f3bc6ef56d0>,\n",
              "        <matplotlib.axes._subplots.AxesSubplot object at 0x7f3bc6ea9dd0>,\n",
              "        <matplotlib.axes._subplots.AxesSubplot object at 0x7f3bc6e25910>,\n",
              "        <matplotlib.axes._subplots.AxesSubplot object at 0x7f3bc6ddaf10>],\n",
              "       [<matplotlib.axes._subplots.AxesSubplot object at 0x7f3bc6d9f550>,\n",
              "        <matplotlib.axes._subplots.AxesSubplot object at 0x7f3bc6ec9490>,\n",
              "        <matplotlib.axes._subplots.AxesSubplot object at 0x7f3be178b950>,\n",
              "        <matplotlib.axes._subplots.AxesSubplot object at 0x7f3bc6cc0690>],\n",
              "       [<matplotlib.axes._subplots.AxesSubplot object at 0x7f3bc6cf6c90>,\n",
              "        <matplotlib.axes._subplots.AxesSubplot object at 0x7f3bc6c3a2d0>,\n",
              "        <matplotlib.axes._subplots.AxesSubplot object at 0x7f3bc6c718d0>,\n",
              "        <matplotlib.axes._subplots.AxesSubplot object at 0x7f3bc6c29ed0>]],\n",
              "      dtype=object)"
            ]
          },
          "metadata": {},
          "execution_count": 8
        },
        {
          "output_type": "display_data",
          "data": {
            "text/plain": [
              "<Figure size 1080x720 with 20 Axes>"
            ],
            "image/png": "[encoded data removed]"
          },
          "metadata": {
            "needs_background": "light"
          }
        }
      ]
    },
    {
      "cell_type": "markdown",
      "source": [
        "### - year 데이터 수 분"
      ],
      "metadata": {
        "id": "1MIECdb70uuC"
      }
    },
    {
      "cell_type": "code",
      "source": [
        "pd.crosstab(columns = data['country'], index = data['year'], values = data['lifeexpectancy'], aggfunc = 'mean').plot(figsize = (25, 8))\n"
      ],
      "metadata": {
        "id": "zsOij8-K01qZ"
      },
      "execution_count": null,
      "outputs": []
    },
    {
      "cell_type": "markdown",
      "source": [
        "뭔가 나라가 너무 많아서 잘 안 보이지만, 그래프를 대충 살펴봤을 때 두 가지 경향이 있는 걸로 보임<br>\n",
        "팀 미팅에서 얘기했던 것처럼 '국가'가 오히려 소음이 될 여지도 있으니, 이런 특성을 기준으로 클래스를 나눠보면 어떨까?<br>\n",
        "1. 대충 직선형으로 쭉 증가\n",
        "2. 증감 cycle 을 가지며 증가하는 두 분류가 있는 걸로 보임\n",
        "\n"
      ],
      "metadata": {
        "id": "asaED12X00Rr"
      }
    },
    {
      "cell_type": "markdown",
      "source": [
        "#### - 성인 사망자 수(/1000명)"
      ],
      "metadata": {
        "id": "0_S3wgv4viDz"
      }
    },
    {
      "cell_type": "code",
      "source": [
        "descam = data['adult_mortality'].describe()\n",
        "_ = sns.boxplot(data['adult_mortality'])"
      ],
      "metadata": {
        "colab": {
          "base_uri": "https://localhost:8080/",
          "height": 336
        },
        "id": "oywvp--i1fvU",
        "outputId": "606b1764-13aa-4b8f-8e7c-5406ec593a07"
      },
      "execution_count": 12,
      "outputs": [
        {
          "output_type": "stream",
          "name": "stderr",
          "text": [
            "/usr/local/lib/python3.7/dist-packages/seaborn/_decorators.py:43: FutureWarning: Pass the following variable as a keyword arg: x. From version 0.12, the only valid positional argument will be `data`, and passing other arguments without an explicit keyword will result in an error or misinterpretation.\n",
            "  FutureWarning\n"
          ]
        },
        {
          "output_type": "display_data",
          "data": {
            "text/plain": [
              "<Figure size 432x288 with 1 Axes>"
            ],
            "image/png": "[encoded data removed]"
          },
          "metadata": {
            "needs_background": "light"
          }
        }
      ]
    },
    {
      "cell_type": "code",
      "source": [
        "data['year'].nunique()"
      ],
      "metadata": {
        "colab": {
          "base_uri": "https://localhost:8080/"
        },
        "id": "NfgpdvHIwqcQ",
        "outputId": "e97c0caa-32eb-4c1a-f0d3-d22ec9a6d12b"
      },
      "execution_count": 25,
      "outputs": [
        {
          "output_type": "execute_result",
          "data": {
            "text/plain": [
              "16"
            ]
          },
          "metadata": {},
          "execution_count": 25
        }
      ]
    },
    {
      "cell_type": "code",
      "source": [
        "# foo = pd.DataFrame(data.loc[data['adult_mortality'] > descam['75%'],['nationstatus', 'country']].value_counts())\n",
        "foo = pd.DataFrame(data.loc[data['adult_mortality'] > 450,['nationstatus', 'country','year']])\n",
        "display(foo.groupby(by = ['nationstatus', 'country'])['year'].min().sort_values(ascending = True))\n",
        "print(\"-\"*60)\n",
        "display(foo.groupby(by = ['nationstatus', 'country'])['year'].max().sort_values(ascending = False))\n"
      ],
      "metadata": {
        "colab": {
          "base_uri": "https://localhost:8080/",
          "height": 652
        },
        "id": "5fDzHfGPvnTY",
        "outputId": "28fc9939-ebf7-4585-97da-3335b33eee23"
      },
      "execution_count": 46,
      "outputs": [
        {
          "output_type": "display_data",
          "data": {
            "text/plain": [
              "nationstatus  country                    \n",
              "Developing    Botswana                       2000\n",
              "              Côte d'Ivoire                  2000\n",
              "              Eritrea                        2000\n",
              "              Lesotho                        2000\n",
              "              Malawi                         2000\n",
              "              Sierra Leone                   2000\n",
              "              Swaziland                      2000\n",
              "              Uganda                         2000\n",
              "              United Republic of Tanzania    2000\n",
              "              Zambia                         2000\n",
              "              Zimbabwe                       2000\n",
              "              Namibia                        2002\n",
              "              South Africa                   2002\n",
              "              Central African Republic       2004\n",
              "              Haiti                          2010\n",
              "Name: year, dtype: int64"
            ]
          },
          "metadata": {}
        },
        {
          "output_type": "stream",
          "name": "stdout",
          "text": [
            "------------------------------------------------------------\n"
          ]
        },
        {
          "output_type": "display_data",
          "data": {
            "text/plain": [
              "nationstatus  country                    \n",
              "Developing    Lesotho                        2015\n",
              "              Sierra Leone                   2014\n",
              "              Central African Republic       2013\n",
              "              Zimbabwe                       2011\n",
              "              Haiti                          2010\n",
              "              Malawi                         2010\n",
              "              Swaziland                      2010\n",
              "              South Africa                   2008\n",
              "              Zambia                         2007\n",
              "              Botswana                       2006\n",
              "              Côte d'Ivoire                  2006\n",
              "              Namibia                        2005\n",
              "              Uganda                         2004\n",
              "              United Republic of Tanzania    2004\n",
              "              Eritrea                        2000\n",
              "Name: year, dtype: int64"
            ]
          },
          "metadata": {}
        }
      ]
    },
    {
      "cell_type": "markdown",
      "source": [
        "국가 별로 "
      ],
      "metadata": {
        "id": "ohlKCrALwxJh"
      }
    },
    {
      "cell_type": "code",
      "source": [
        ""
      ],
      "metadata": {
        "id": "hcjgd4CHvnOx"
      },
      "execution_count": null,
      "outputs": []
    },
    {
      "cell_type": "code",
      "source": [
        ""
      ],
      "metadata": {
        "id": "Dvg2Ac9_vnKb"
      },
      "execution_count": null,
      "outputs": []
    },
    {
      "cell_type": "code",
      "source": [
        ""
      ],
      "metadata": {
        "id": "xc3Gv5qQvnAz"
      },
      "execution_count": null,
      "outputs": []
    },
    {
      "cell_type": "code",
      "source": [
        "# p_expenditure_pergdp : 1인당 국내총생산(GDP) 대비 보건 예산 지출 비율 (%) - 얜 예산 외에 추가 지출이 있으면 100 이상이 나올 수는 있을거라 생각됨. 그치만 100 이상 비율은 확인해 볼 필요가 있을 듯"
      ],
      "metadata": {
        "id": "3ozRH62P1fyW"
      },
      "execution_count": null,
      "outputs": []
    },
    {
      "cell_type": "code",
      "source": [
        "# measles : 홍역, 인구 1000명당 보고된 환자 수 - 얘도 1000 이상이 존재하네? - 홍역은 재발하는 병이 아니라는데, 1000 이상의 값이 가지는 의미는? \n",
        "# http://www.samsunghospital.com/home/healthInfo/content/contenView.do?CONT_SRC=CMS&CONT_SRC_ID=09a4727a8000f380&CONT_CLS_CD=001020001013&CONT_ID=1639 (삼성서울병원)\n",
        "\n"
      ],
      "metadata": {
        "id": "ax4PcgQs1f5S"
      },
      "execution_count": null,
      "outputs": []
    },
    {
      "cell_type": "code",
      "source": [
        "# under_five_deaths\n",
        "# 75% : 28, 그 외 25% : 2500 갭이 너무 큼 \n",
        "# 1) 로그 취해보거나 2) 이상치로 보고 75%값 등으로 대체해줘야지"
      ],
      "metadata": {
        "id": "yygbqLK_1f9L"
      },
      "execution_count": null,
      "outputs": []
    },
    {
      "cell_type": "code",
      "source": [
        "# polio , diphtheria, hd_index_income\n",
        "# min = 5910.806335, 25% = 78"
      ],
      "metadata": {
        "id": "8b9dBIZjIMr0"
      },
      "execution_count": null,
      "outputs": []
    },
    {
      "cell_type": "code",
      "source": [
        "# gdp, under_four_hiv/aids, thinness_1to19, thinness_5to9\n",
        "# 75% = 3, max = 119172.741800"
      ],
      "metadata": {
        "id": "H1gmkpjxIMvz"
      },
      "execution_count": null,
      "outputs": []
    },
    {
      "cell_type": "code",
      "source": [
        ""
      ],
      "metadata": {
        "id": "GyRXmmUwIM0f"
      },
      "execution_count": null,
      "outputs": []
    },
    {
      "cell_type": "code",
      "source": [
        ""
      ],
      "metadata": {
        "id": "A-erIKNwIM5X"
      },
      "execution_count": null,
      "outputs": []
    },
    {
      "cell_type": "code",
      "source": [
        ""
      ],
      "metadata": {
        "id": "0nxXOicGIM-A"
      },
      "execution_count": null,
      "outputs": []
    },
    {
      "cell_type": "code",
      "source": [
        ""
      ],
      "metadata": {
        "id": "WE0DgELpIND6"
      },
      "execution_count": null,
      "outputs": []
    },
    {
      "cell_type": "code",
      "source": [
        "data.describe(include = ['O'])"
      ],
      "metadata": {
        "colab": {
          "base_uri": "https://localhost:8080/",
          "height": 175
        },
        "id": "l1EIzTxX9Tmj",
        "outputId": "d60bcce5-3cd6-4433-be91-eeceee194216"
      },
      "execution_count": 9,
      "outputs": [
        {
          "output_type": "execute_result",
          "data": {
            "text/plain": [
              "            country nationstatus\n",
              "count          2938         2938\n",
              "unique          193            2\n",
              "top     Afghanistan   Developing\n",
              "freq             16         2426"
            ],
            "text/html": [
              "\n",
              "  <div id=\"df-35bf5e69-ac50-4c4f-bd2d-b50c51dab360\">\n",
              "    <div class=\"colab-df-container\">\n",
              "      <div>\n",
              "<style scoped>\n",
              "    .dataframe tbody tr th:only-of-type {\n",
              "        vertical-align: middle;\n",
              "    }\n",
              "\n",
              "    .dataframe tbody tr th {\n",
              "        vertical-align: top;\n",
              "    }\n",
              "\n",
              "    .dataframe thead th {\n",
              "        text-align: right;\n",
              "    }\n",
              "</style>\n",
              "<table border=\"1\" class=\"dataframe\">\n",
              "  <thead>\n",
              "    <tr style=\"text-align: right;\">\n",
              "      <th></th>\n",
              "      <th>country</th>\n",
              "      <th>nationstatus</th>\n",
              "    </tr>\n",
              "  </thead>\n",
              "  <tbody>\n",
              "    <tr>\n",
              "      <th>count</th>\n",
              "      <td>2938</td>\n",
              "      <td>2938</td>\n",
              "    </tr>\n",
              "    <tr>\n",
              "      <th>unique</th>\n",
              "      <td>193</td>\n",
              "      <td>2</td>\n",
              "    </tr>\n",
              "    <tr>\n",
              "      <th>top</th>\n",
              "      <td>Afghanistan</td>\n",
              "      <td>Developing</td>\n",
              "    </tr>\n",
              "    <tr>\n",
              "      <th>freq</th>\n",
              "      <td>16</td>\n",
              "      <td>2426</td>\n",
              "    </tr>\n",
              "  </tbody>\n",
              "</table>\n",
              "</div>\n",
              "      <button class=\"colab-df-convert\" onclick=\"convertToInteractive('df-35bf5e69-ac50-4c4f-bd2d-b50c51dab360')\"\n",
              "              title=\"Convert this dataframe to an interactive table.\"\n",
              "              style=\"display:none;\">\n",
              "        \n",
              "  <svg xmlns=\"http://www.w3.org/2000/svg\" height=\"24px\"viewBox=\"0 0 24 24\"\n",
              "       width=\"24px\">\n",
              "    <path d=\"M0 0h24v24H0V0z\" fill=\"none\"/>\n",
              "    <path d=\"M18.56 5.44l.94 2.06.94-2.06 2.06-.94-2.06-.94-.94-2.06-.94 2.06-2.06.94zm-11 1L8.5 8.5l.94-2.06 2.06-.94-2.06-.94L8.5 2.5l-.94 2.06-2.06.94zm10 10l.94 2.06.94-2.06 2.06-.94-2.06-.94-.94-2.06-.94 2.06-2.06.94z\"/><path d=\"M17.41 7.96l-1.37-1.37c-.4-.4-.92-.59-1.43-.59-.52 0-1.04.2-1.43.59L10.3 9.45l-7.72 7.72c-.78.78-.78 2.05 0 2.83L4 21.41c.39.39.9.59 1.41.59.51 0 1.02-.2 1.41-.59l7.78-7.78 2.81-2.81c.8-.78.8-2.07 0-2.86zM5.41 20L4 18.59l7.72-7.72 1.47 1.35L5.41 20z\"/>\n",
              "  </svg>\n",
              "      </button>\n",
              "      \n",
              "  <style>\n",
              "    .colab-df-container {\n",
              "      display:flex;\n",
              "      flex-wrap:wrap;\n",
              "      gap: 12px;\n",
              "    }\n",
              "\n",
              "    .colab-df-convert {\n",
              "      background-color: #E8F0FE;\n",
              "      border: none;\n",
              "      border-radius: 50%;\n",
              "      cursor: pointer;\n",
              "      display: none;\n",
              "      fill: #1967D2;\n",
              "      height: 32px;\n",
              "      padding: 0 0 0 0;\n",
              "      width: 32px;\n",
              "    }\n",
              "\n",
              "    .colab-df-convert:hover {\n",
              "      background-color: #E2EBFA;\n",
              "      box-shadow: 0px 1px 2px rgba(60, 64, 67, 0.3), 0px 1px 3px 1px rgba(60, 64, 67, 0.15);\n",
              "      fill: #174EA6;\n",
              "    }\n",
              "\n",
              "    [theme=dark] .colab-df-convert {\n",
              "      background-color: #3B4455;\n",
              "      fill: #D2E3FC;\n",
              "    }\n",
              "\n",
              "    [theme=dark] .colab-df-convert:hover {\n",
              "      background-color: #434B5C;\n",
              "      box-shadow: 0px 1px 3px 1px rgba(0, 0, 0, 0.15);\n",
              "      filter: drop-shadow(0px 1px 2px rgba(0, 0, 0, 0.3));\n",
              "      fill: #FFFFFF;\n",
              "    }\n",
              "  </style>\n",
              "\n",
              "      <script>\n",
              "        const buttonEl =\n",
              "          document.querySelector('#df-35bf5e69-ac50-4c4f-bd2d-b50c51dab360 button.colab-df-convert');\n",
              "        buttonEl.style.display =\n",
              "          google.colab.kernel.accessAllowed ? 'block' : 'none';\n",
              "\n",
              "        async function convertToInteractive(key) {\n",
              "          const element = document.querySelector('#df-35bf5e69-ac50-4c4f-bd2d-b50c51dab360');\n",
              "          const dataTable =\n",
              "            await google.colab.kernel.invokeFunction('convertToInteractive',\n",
              "                                                     [key], {});\n",
              "          if (!dataTable) return;\n",
              "\n",
              "          const docLinkHtml = 'Like what you see? Visit the ' +\n",
              "            '<a target=\"_blank\" href=https://colab.research.google.com/notebooks/data_table.ipynb>data table notebook</a>'\n",
              "            + ' to learn more about interactive tables.';\n",
              "          element.innerHTML = '';\n",
              "          dataTable['output_type'] = 'display_data';\n",
              "          await google.colab.output.renderOutput(dataTable, element);\n",
              "          const docLink = document.createElement('div');\n",
              "          docLink.innerHTML = docLinkHtml;\n",
              "          element.appendChild(docLink);\n",
              "        }\n",
              "      </script>\n",
              "    </div>\n",
              "  </div>\n",
              "  "
            ]
          },
          "metadata": {},
          "execution_count": 9
        }
      ]
    },
    {
      "cell_type": "code",
      "source": [
        ""
      ],
      "metadata": {
        "id": "WRxAuYsG1gE5"
      },
      "execution_count": null,
      "outputs": []
    },
    {
      "cell_type": "code",
      "source": [
        ""
      ],
      "metadata": {
        "id": "vzKMrIa81gI_"
      },
      "execution_count": null,
      "outputs": []
    },
    {
      "cell_type": "code",
      "source": [
        "temp = data.copy()\n",
        "num_cols = temp.select_dtypes('number').columns.tolist()\n",
        "for col in num_cols :\n",
        "    temp[col] = np.log1p(temp[col])\n",
        "\n",
        "temp.hist(figsize = (15,10), bins = 50)"
      ],
      "metadata": {
        "colab": {
          "base_uri": "https://localhost:8080/",
          "height": 988
        },
        "id": "2ChTfAzfS31D",
        "outputId": "6add4409-6086-4b03-99dc-9b299414d365"
      },
      "execution_count": null,
      "outputs": [
        {
          "output_type": "execute_result",
          "data": {
            "text/plain": [
              "array([[<matplotlib.axes._subplots.AxesSubplot object at 0x7f227a785c90>,\n",
              "        <matplotlib.axes._subplots.AxesSubplot object at 0x7f227a90c690>,\n",
              "        <matplotlib.axes._subplots.AxesSubplot object at 0x7f227a7673d0>,\n",
              "        <matplotlib.axes._subplots.AxesSubplot object at 0x7f227a7578d0>],\n",
              "       [<matplotlib.axes._subplots.AxesSubplot object at 0x7f227a6ecdd0>,\n",
              "        <matplotlib.axes._subplots.AxesSubplot object at 0x7f227a71a310>,\n",
              "        <matplotlib.axes._subplots.AxesSubplot object at 0x7f227a6c2890>,\n",
              "        <matplotlib.axes._subplots.AxesSubplot object at 0x7f227a671cd0>],\n",
              "       [<matplotlib.axes._subplots.AxesSubplot object at 0x7f227a671d10>,\n",
              "        <matplotlib.axes._subplots.AxesSubplot object at 0x7f227a62e350>,\n",
              "        <matplotlib.axes._subplots.AxesSubplot object at 0x7f227a61bc50>,\n",
              "        <matplotlib.axes._subplots.AxesSubplot object at 0x7f227a5dd190>],\n",
              "       [<matplotlib.axes._subplots.AxesSubplot object at 0x7f227a595690>,\n",
              "        <matplotlib.axes._subplots.AxesSubplot object at 0x7f227a54ac10>,\n",
              "        <matplotlib.axes._subplots.AxesSubplot object at 0x7f227a50c150>,\n",
              "        <matplotlib.axes._subplots.AxesSubplot object at 0x7f227a4c2650>],\n",
              "       [<matplotlib.axes._subplots.AxesSubplot object at 0x7f227a479b50>,\n",
              "        <matplotlib.axes._subplots.AxesSubplot object at 0x7f227a428b90>,\n",
              "        <matplotlib.axes._subplots.AxesSubplot object at 0x7f227a3f4590>,\n",
              "        <matplotlib.axes._subplots.AxesSubplot object at 0x7f227a3aca90>]],\n",
              "      dtype=object)"
            ]
          },
          "metadata": {},
          "execution_count": 27
        },
        {
          "output_type": "display_data",
          "data": {
            "text/plain": [
              "<Figure size 1080x720 with 20 Axes>"
            ],
            "image/png": "[encoded data removed]"
          },
          "metadata": {
            "needs_background": "light"
          }
        }
      ]
    },
    {
      "cell_type": "code",
      "source": [
        ""
      ],
      "metadata": {
        "id": "LR9Img5v1gNI"
      },
      "execution_count": null,
      "outputs": []
    },
    {
      "cell_type": "markdown",
      "source": [
        "# 4. 데이터 전처리 및 시각화\n"
      ],
      "metadata": {
        "id": "D7m-P4Je1gQ2"
      }
    },
    {
      "cell_type": "code",
      "source": [
        "본 프로젝트가 16년치 데이터를 다루고 있는데,\n",
        "16년 혹은 15년 처럼, 데이터 다수에 대해서 한 국가가 지속적으로 높은 사망자 수를 가지고 있다는 건 \"말 그대로 신호\"라고 보임\n",
        "- 차라리 얘를 파생변수로 만들어보면 어떨까 싶음 > 'num_year_over75%'"
      ],
      "metadata": {
        "id": "fiqDRRH41gT8"
      },
      "execution_count": null,
      "outputs": []
    },
    {
      "cell_type": "code",
      "source": [
        ""
      ],
      "metadata": {
        "id": "GWKw3qUx1gXv"
      },
      "execution_count": null,
      "outputs": []
    },
    {
      "cell_type": "code",
      "source": [
        ""
      ],
      "metadata": {
        "id": "QIhJb80o1gb8"
      },
      "execution_count": null,
      "outputs": []
    },
    {
      "cell_type": "code",
      "source": [
        ""
      ],
      "metadata": {
        "id": "SBxPN6JE1ggK"
      },
      "execution_count": null,
      "outputs": []
    },
    {
      "cell_type": "code",
      "source": [
        ""
      ],
      "metadata": {
        "id": "-KIXNPwD1gjB"
      },
      "execution_count": null,
      "outputs": []
    },
    {
      "cell_type": "code",
      "source": [
        ""
      ],
      "metadata": {
        "id": "LB9zDaUK1gmq"
      },
      "execution_count": null,
      "outputs": []
    }
  ]
}